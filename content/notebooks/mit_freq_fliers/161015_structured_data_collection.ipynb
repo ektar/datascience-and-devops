{
 "cells": [
  {
   "cell_type": "markdown",
   "metadata": {},
   "source": [
    "# Introduction"
   ]
  },
  {
   "cell_type": "markdown",
   "metadata": {},
   "source": [
    "Collect relevant structured data for all labeled patients, for the purpose of creating classifiers separate from the NLP project, to identify patient cohorts to preferrentially sample for manual concept analysis."
   ]
  },
  {
   "cell_type": "markdown",
   "metadata": {},
   "source": [
    "**Authors**\n",
    "- Eric Carlson"
   ]
  },
  {
   "cell_type": "code",
   "execution_count": 1,
   "metadata": {
    "collapsed": true
   },
   "outputs": [],
   "source": [
    "from datetime import datetime\n",
    "import configparser\n",
    "import hashlib\n",
    "from importlib import reload\n",
    "import logging\n",
    "import numpy as np\n",
    "import os\n",
    "import pandas as pd\n",
    "import pathlib as pl\n",
    "import sys\n",
    "import yaml\n",
    "\n",
    "from IPython import display\n",
    "\n",
    "import etc_utils as eu\n",
    "import mimic_extraction_utils as meu\n",
    "import structured_data_utils as sdu"
   ]
  },
  {
   "cell_type": "code",
   "execution_count": 2,
   "metadata": {
    "collapsed": true
   },
   "outputs": [],
   "source": [
    "import sqlalchemy as sa\n",
    "from sqlalchemy.engine import reflection\n",
    "from sqlalchemy.ext.declarative import declarative_base\n",
    "from sqlalchemy import create_engine, MetaData, inspect\n",
    "from sqlalchemy.orm import sessionmaker\n",
    "from sqlalchemy.ext.automap import automap_base, name_for_scalar_relationship, generate_relationship"
   ]
  },
  {
   "cell_type": "code",
   "execution_count": 3,
   "metadata": {
    "collapsed": false
   },
   "outputs": [
    {
     "data": {
      "text/plain": [
       "<module 'structured_data_utils' from '/mnt/cbds_homes/ecarlson/Notebooks/mit_frequent_fliers/mit-team-code/software/notebooks/structured_data_utils.py'>"
      ]
     },
     "execution_count": 3,
     "metadata": {},
     "output_type": "execute_result"
    }
   ],
   "source": [
    "reload(eu)\n",
    "reload(meu)\n",
    "reload(sdu)"
   ]
  },
  {
   "cell_type": "code",
   "execution_count": 4,
   "metadata": {
    "collapsed": false
   },
   "outputs": [],
   "source": [
    "sys.path.append('../icd9')\n",
    "from icd9 import ICD9\n",
    "\n",
    "# feel free to replace with your path to the json file\n",
    "tree = ICD9('../icd9/codes.json')"
   ]
  },
  {
   "cell_type": "markdown",
   "metadata": {},
   "source": [
    "## Configure pandas and matplot lib for nice web printing"
   ]
  },
  {
   "cell_type": "code",
   "execution_count": 5,
   "metadata": {
    "collapsed": true
   },
   "outputs": [],
   "source": [
    "pd.options.display.max_rows = 1000\n",
    "pd.options.display.max_columns = 50\n",
    "pd.options.display.max_colwidth = 100"
   ]
  },
  {
   "cell_type": "code",
   "execution_count": 6,
   "metadata": {
    "collapsed": true
   },
   "outputs": [],
   "source": [
    "%matplotlib inline"
   ]
  },
  {
   "cell_type": "markdown",
   "metadata": {},
   "source": [
    "## Load config files, configure logging"
   ]
  },
  {
   "cell_type": "code",
   "execution_count": 7,
   "metadata": {
    "collapsed": true
   },
   "outputs": [],
   "source": [
    "work_desc = \"gather_structured_data\""
   ]
  },
  {
   "cell_type": "code",
   "execution_count": 8,
   "metadata": {
    "collapsed": false
   },
   "outputs": [
    {
     "name": "stdout",
     "output_type": "stream",
     "text": [
      "Time string: 2016-10-24-16-35\n",
      "Paths:\n",
      "input_dir: /mnt/cbds_homes/ecarlson/data/mit_frequent_fliers\n",
      "repo_data_dir: ../../data\n",
      "results_dir: /mnt/cbds_homes/ecarlson/results/mit_frequent_fliers\n",
      "log_dir: /mnt/cbds_homes/ecarlson/logs/mit_frequent_fliers\n"
     ]
    }
   ],
   "source": [
    "time_str, path_config, creds = eu.load_config_v2()\n",
    "print('Time string: {}'.format(time_str))\n",
    "\n",
    "print('Paths:')\n",
    "for k, item in path_config.items():\n",
    "    print('{}: {}'.format(k, item))"
   ]
  },
  {
   "cell_type": "code",
   "execution_count": 9,
   "metadata": {
    "collapsed": false
   },
   "outputs": [
    {
     "name": "stdout",
     "output_type": "stream",
     "text": [
      "Logging to /mnt/cbds_homes/ecarlson/logs/mit_frequent_fliers/2016-10-24-16-35_gather_structured_data.log\n"
     ]
    }
   ],
   "source": [
    "logger = logging.getLogger()\n",
    "\n",
    "eu.configure_logging(logger, work_desc=work_desc, log_directory=path_config['log_dir'], time_str=time_str)"
   ]
  },
  {
   "cell_type": "code",
   "execution_count": 10,
   "metadata": {
    "collapsed": false
   },
   "outputs": [
    {
     "data": {
      "text/plain": [
       "['mimic3_v1_4', 'mimic2_v2_6', 'postgres']"
      ]
     },
     "execution_count": 10,
     "metadata": {},
     "output_type": "execute_result"
    }
   ],
   "source": [
    "[k for k in creds.keys()]"
   ]
  },
  {
   "cell_type": "markdown",
   "metadata": {},
   "source": [
    "# Connect to database"
   ]
  },
  {
   "cell_type": "code",
   "execution_count": 11,
   "metadata": {
    "collapsed": false
   },
   "outputs": [],
   "source": [
    "db_path = '{sa_driver}://{username}:{password}@{hostname}/{dbname}'.format(**creds['mimic3_v1_4'])\n",
    "engine = create_engine(db_path)\n",
    "sm = sessionmaker(bind=engine)\n",
    "s = sm()\n",
    "conn = s.connection()\n",
    "\n",
    "meta = MetaData(schema=\"mimiciii\", bind=engine)\n",
    "meta.reflect(bind=engine)"
   ]
  },
  {
   "cell_type": "code",
   "execution_count": 12,
   "metadata": {
    "collapsed": true
   },
   "outputs": [],
   "source": [
    "base = automap_base(metadata=meta)\n",
    "base.prepare(engine, reflect=True)"
   ]
  },
  {
   "cell_type": "code",
   "execution_count": 13,
   "metadata": {
    "collapsed": false
   },
   "outputs": [
    {
     "name": "stdout",
     "output_type": "stream",
     "text": [
      "admissions\n",
      "callout\n",
      "caregivers\n",
      "chartevents\n",
      "cptevents\n",
      "d_cpt\n",
      "d_icd_diagnoses\n",
      "d_icd_procedures\n",
      "d_items\n",
      "d_labitems\n",
      "datetimeevents\n",
      "diagnoses_icd\n",
      "drgcodes\n",
      "icustays\n",
      "inputevents_cv\n",
      "inputevents_mv\n",
      "labevents\n",
      "microbiologyevents\n",
      "noteevents\n",
      "outputevents\n",
      "patients\n",
      "prescriptions\n",
      "procedureevents_mv\n",
      "procedures_icd\n",
      "services\n",
      "transfers\n"
     ]
    }
   ],
   "source": [
    "for cls_name in sorted(base.classes.keys()):\n",
    "    print(cls_name)"
   ]
  },
  {
   "cell_type": "code",
   "execution_count": 14,
   "metadata": {
    "collapsed": true
   },
   "outputs": [],
   "source": [
    "note_tb = base.classes['noteevents']"
   ]
  },
  {
   "cell_type": "code",
   "execution_count": 15,
   "metadata": {
    "collapsed": false
   },
   "outputs": [
    {
     "data": {
      "text/plain": [
       "2083180"
      ]
     },
     "execution_count": 15,
     "metadata": {},
     "output_type": "execute_result"
    }
   ],
   "source": [
    "s.query(note_tb.category).count()"
   ]
  },
  {
   "cell_type": "markdown",
   "metadata": {},
   "source": [
    "# Load labeled notes"
   ]
  },
  {
   "cell_type": "code",
   "execution_count": 16,
   "metadata": {
    "collapsed": true
   },
   "outputs": [],
   "source": [
    "categories = ['Advanced.Cancer', 'Advanced.Heart.Disease', 'Advanced.Lung.Disease',\n",
    "       'Alcohol.Abuse',\n",
    "       'Chronic.Neurological.Dystrophies', 'Chronic.Pain.Fibromyalgia',\n",
    "       'Dementia', 'Depression', 'Developmental.Delay.Retardation',\n",
    "       'Non.Adherence', 'None',\n",
    "       'Obesity', 'Other.Substance.Abuse', \n",
    "       'Schizophrenia.and.other.Psychiatric.Disorders', 'Unsure',]"
   ]
  },
  {
   "cell_type": "code",
   "execution_count": 17,
   "metadata": {
    "collapsed": true
   },
   "outputs": [],
   "source": [
    "data_path = pl.Path(path_config['repo_data_dir'])"
   ]
  },
  {
   "cell_type": "code",
   "execution_count": 18,
   "metadata": {
    "collapsed": false
   },
   "outputs": [
    {
     "data": {
      "text/plain": [
       "[PosixPath('../../data/mimic3_note_metadata_2016-10-24-00-37.csv'),\n",
       " PosixPath('../../data/notes_icd9_codes_2016-10-24-00-37.csv'),\n",
       " PosixPath('../../data/combined_label_data_2016-10-24-00-37.csv'),\n",
       " PosixPath('../../data/mimic3_note_equivs_2016-10-22-03-39.csv'),\n",
       " PosixPath('../../data/nursingNotesClean.csv'),\n",
       " PosixPath('../../data/AllDischargeFinal27Sep16.csv'),\n",
       " PosixPath('../../data/dischargeSummariesClean.csv'),\n",
       " PosixPath('../../data/AllnursingFinal27Sep16.csv')]"
      ]
     },
     "execution_count": 18,
     "metadata": {},
     "output_type": "execute_result"
    }
   ],
   "source": [
    "[p for p in data_path.glob('*csv')]"
   ]
  },
  {
   "cell_type": "code",
   "execution_count": 19,
   "metadata": {
    "collapsed": true
   },
   "outputs": [],
   "source": [
    "nursing_notes_path = data_path.joinpath('nursingNotesClean.csv')\n",
    "discharge_notes_path = data_path.joinpath('dischargeSummariesClean.csv')"
   ]
  },
  {
   "cell_type": "code",
   "execution_count": 20,
   "metadata": {
    "collapsed": true
   },
   "outputs": [],
   "source": [
    "nursing_notes = pd.read_csv(nursing_notes_path.as_posix())\n",
    "disch_notes = pd.read_csv(discharge_notes_path.as_posix()).rename(columns={'subject.id':'subject_id'})"
   ]
  },
  {
   "cell_type": "code",
   "execution_count": 21,
   "metadata": {
    "collapsed": false
   },
   "outputs": [
    {
     "data": {
      "text/html": [
       "<div>\n",
       "<table border=\"1\" class=\"dataframe\">\n",
       "  <thead>\n",
       "    <tr style=\"text-align: right;\">\n",
       "      <th></th>\n",
       "      <th>Hospital.Admission.ID</th>\n",
       "      <th>subject_id</th>\n",
       "      <th>icustay_id</th>\n",
       "      <th>charttime</th>\n",
       "      <th>realtime</th>\n",
       "      <th>category</th>\n",
       "      <th>title</th>\n",
       "      <th>text</th>\n",
       "      <th>cohort</th>\n",
       "      <th>rand</th>\n",
       "      <th>Subject.ID</th>\n",
       "      <th>ICU.ID</th>\n",
       "      <th>Note.Type</th>\n",
       "      <th>Chart.time</th>\n",
       "      <th>Category</th>\n",
       "      <th>Real.time</th>\n",
       "      <th>None</th>\n",
       "      <th>Obesity</th>\n",
       "      <th>Non.Adherence</th>\n",
       "      <th>Developmental.Delay.Retardation</th>\n",
       "      <th>Advanced.Heart.Disease</th>\n",
       "      <th>Advanced.Lung.Disease</th>\n",
       "      <th>Schizophrenia.and.other.Psychiatric.Disorders</th>\n",
       "      <th>Alcohol.Abuse</th>\n",
       "      <th>Other.Substance.Abuse</th>\n",
       "      <th>Chronic.Pain.Fibromyalgia</th>\n",
       "      <th>Chronic.Neurological.Dystrophies</th>\n",
       "      <th>Advanced.Cancer</th>\n",
       "      <th>Depression</th>\n",
       "      <th>Dementia</th>\n",
       "      <th>Unsure</th>\n",
       "      <th>operator</th>\n",
       "    </tr>\n",
       "  </thead>\n",
       "  <tbody>\n",
       "    <tr>\n",
       "      <th>0</th>\n",
       "      <td>2</td>\n",
       "      <td>24807</td>\n",
       "      <td>30800.0</td>\n",
       "      <td>3033-07-09 00:56:00</td>\n",
       "      <td>3033-07-09 01:22:00</td>\n",
       "      <td>Nursing/Other</td>\n",
       "      <td>MICU/SICU NURSING PROGRESS NOTE.</td>\n",
       "      <td>\\nMICU/SICU NURSING PROGRESS NOTE.\\n     SEE CAREVIEW FOR OBJECTIVE DATA.\\n     Neuro: Arouses w...</td>\n",
       "      <td>1</td>\n",
       "      <td>0.330879</td>\n",
       "      <td>24807</td>\n",
       "      <td>30800.0</td>\n",
       "      <td>Nursing/Other</td>\n",
       "      <td>3033-07-09 00:56:00</td>\n",
       "      <td>Nursing/Other</td>\n",
       "      <td>3033-07-09 01:22:00</td>\n",
       "      <td>1</td>\n",
       "      <td>0</td>\n",
       "      <td>0</td>\n",
       "      <td>0</td>\n",
       "      <td>0</td>\n",
       "      <td>0</td>\n",
       "      <td>0</td>\n",
       "      <td>0</td>\n",
       "      <td>0</td>\n",
       "      <td>0</td>\n",
       "      <td>0</td>\n",
       "      <td>0</td>\n",
       "      <td>0</td>\n",
       "      <td>0</td>\n",
       "      <td>0</td>\n",
       "      <td>ETM</td>\n",
       "    </tr>\n",
       "  </tbody>\n",
       "</table>\n",
       "</div>"
      ],
      "text/plain": [
       "   Hospital.Admission.ID  subject_id  icustay_id            charttime  \\\n",
       "0                      2       24807     30800.0  3033-07-09 00:56:00   \n",
       "\n",
       "              realtime       category                             title  \\\n",
       "0  3033-07-09 01:22:00  Nursing/Other  MICU/SICU NURSING PROGRESS NOTE.   \n",
       "\n",
       "                                                                                                  text  \\\n",
       "0  \\nMICU/SICU NURSING PROGRESS NOTE.\\n     SEE CAREVIEW FOR OBJECTIVE DATA.\\n     Neuro: Arouses w...   \n",
       "\n",
       "   cohort      rand  Subject.ID   ICU.ID      Note.Type           Chart.time  \\\n",
       "0       1  0.330879       24807  30800.0  Nursing/Other  3033-07-09 00:56:00   \n",
       "\n",
       "        Category            Real.time  None  Obesity  Non.Adherence  \\\n",
       "0  Nursing/Other  3033-07-09 01:22:00     1        0              0   \n",
       "\n",
       "   Developmental.Delay.Retardation  Advanced.Heart.Disease  \\\n",
       "0                                0                       0   \n",
       "\n",
       "   Advanced.Lung.Disease  Schizophrenia.and.other.Psychiatric.Disorders  \\\n",
       "0                      0                                              0   \n",
       "\n",
       "   Alcohol.Abuse  Other.Substance.Abuse  Chronic.Pain.Fibromyalgia  \\\n",
       "0              0                      0                          0   \n",
       "\n",
       "   Chronic.Neurological.Dystrophies  Advanced.Cancer  Depression  Dementia  \\\n",
       "0                                 0                0           0         0   \n",
       "\n",
       "   Unsure operator  \n",
       "0       0      ETM  "
      ]
     },
     "metadata": {},
     "output_type": "display_data"
    },
    {
     "name": "stdout",
     "output_type": "stream",
     "text": [
      "\n",
      "MICU/SICU NURSING PROGRESS NOTE.\n",
      "     SEE CAREVIEW FOR OBJECTIVE DATA.\n",
      "     Neuro: Arouses with verbal stimuli, ms is variable and changes from a&o x 3 to a&o x 1 with moaning episodes, repetitive speach and repetative motions with rue.  Pupils are rt 4mm, lt 3mm and sluggish bilat.  Head ct completed and was negative.  Was given versed 1 mg during ct and pt became much more calm and was able to answer questions appropriatly. Reports able to feel in all 4 extrem., Partial movement of rt ue and lt ue.\n",
      "     Respiratory:  Lung sounds are coarse throughout, diminished in lt base.  RR 12-24 and non-labored except when having moaning episodes.  O2 saturation is 94-100% on 4l nc.  Cxr in ed showed persistent lll pneumonia and atelectasis in rt upper field.  Expectorating thick tan sputum in abundant amounts.\n",
      "     CV:  Sinus rythm, rate 70-98 with no ectopy noted.  Nbp 104- 134 systolic.  Good pulses all 4 extrem.  \n",
      "      GI/GU:  Abdomen si softly distended with + bs.  Pt is able to take regular meals, is full feed, but must be bolt upright.  Able to take meds with custard or jello.  No bm this shift but reports bm yesterday.  Foley catheter is 30fr placed at os facility, occn leaks around catheter.  Patetn and draing clear amber urine.  ? uti, leuks and  blood in ua.\n",
      "      Integument:  Multiple skin issues.  Stage 3 decubiti below lt glutael, rash on lt and rty gluteals extending down to just above knee joint, raised and pink area in rt lower abdomen, blister type area on rt upper thigh.  Lidocaine patches on mid thorax and lumbar spine.  \n",
      "       Plan:  Monitor respiratory status and tx pnuemonia with abx, Tx uti, Assess present pain control methods and find alteratives.  Obtain first step bed if to be pt here for any lenght of time.\n",
      "\n"
     ]
    }
   ],
   "source": [
    "display.display(nursing_notes.head(1))\n",
    "print(nursing_notes.loc[0,'text'])"
   ]
  },
  {
   "cell_type": "code",
   "execution_count": 22,
   "metadata": {
    "collapsed": false
   },
   "outputs": [
    {
     "data": {
      "text/html": [
       "<div>\n",
       "<table border=\"1\" class=\"dataframe\">\n",
       "  <thead>\n",
       "    <tr style=\"text-align: right;\">\n",
       "      <th></th>\n",
       "      <th>Hospital.Admission.ID</th>\n",
       "      <th>subject_id</th>\n",
       "      <th>chartdate</th>\n",
       "      <th>category</th>\n",
       "      <th>descriptions</th>\n",
       "      <th>text</th>\n",
       "      <th>cohort</th>\n",
       "      <th>Subject.ID</th>\n",
       "      <th>ICU.ID</th>\n",
       "      <th>Note.Type</th>\n",
       "      <th>Chart.time</th>\n",
       "      <th>Category</th>\n",
       "      <th>Real.time</th>\n",
       "      <th>None</th>\n",
       "      <th>Obesity</th>\n",
       "      <th>Non.Adherence</th>\n",
       "      <th>Developmental.Delay.Retardation</th>\n",
       "      <th>Advanced.Heart.Disease</th>\n",
       "      <th>Advanced.Lung.Disease</th>\n",
       "      <th>Schizophrenia.and.other.Psychiatric.Disorders</th>\n",
       "      <th>Alcohol.Abuse</th>\n",
       "      <th>Other.Substance.Abuse</th>\n",
       "      <th>Chronic.Pain.Fibromyalgia</th>\n",
       "      <th>Chronic.Neurological.Dystrophies</th>\n",
       "      <th>Advanced.Cancer</th>\n",
       "      <th>Depression</th>\n",
       "      <th>Dementia</th>\n",
       "      <th>Unsure</th>\n",
       "      <th>operator</th>\n",
       "    </tr>\n",
       "  </thead>\n",
       "  <tbody>\n",
       "    <tr>\n",
       "      <th>0</th>\n",
       "      <td>100020</td>\n",
       "      <td>9973</td>\n",
       "      <td>10-DEC-2142 00:00:00</td>\n",
       "      <td>Discharge</td>\n",
       "      <td>Summary</td>\n",
       "      <td>\\n\\n\\n\\nAdmission Date:  [**2512-1-8**]              Discharge Date:   [**2512-1-18**]\\n\\nDate o...</td>\n",
       "      <td>1</td>\n",
       "      <td>9973</td>\n",
       "      <td>100020</td>\n",
       "      <td>Discharge</td>\n",
       "      <td>100020</td>\n",
       "      <td>Discharge</td>\n",
       "      <td>10-DEC-2142 00:00:00</td>\n",
       "      <td>0</td>\n",
       "      <td>0</td>\n",
       "      <td>0</td>\n",
       "      <td>0</td>\n",
       "      <td>0</td>\n",
       "      <td>0</td>\n",
       "      <td>0</td>\n",
       "      <td>0</td>\n",
       "      <td>0</td>\n",
       "      <td>1</td>\n",
       "      <td>1</td>\n",
       "      <td>0</td>\n",
       "      <td>0</td>\n",
       "      <td>0</td>\n",
       "      <td>0</td>\n",
       "      <td>JTW</td>\n",
       "    </tr>\n",
       "  </tbody>\n",
       "</table>\n",
       "</div>"
      ],
      "text/plain": [
       "   Hospital.Admission.ID  subject_id             chartdate   category  \\\n",
       "0                 100020        9973  10-DEC-2142 00:00:00  Discharge   \n",
       "\n",
       "  descriptions  \\\n",
       "0      Summary   \n",
       "\n",
       "                                                                                                  text  \\\n",
       "0  \\n\\n\\n\\nAdmission Date:  [**2512-1-8**]              Discharge Date:   [**2512-1-18**]\\n\\nDate o...   \n",
       "\n",
       "   cohort  Subject.ID  ICU.ID  Note.Type  Chart.time   Category  \\\n",
       "0       1        9973  100020  Discharge      100020  Discharge   \n",
       "\n",
       "              Real.time  None  Obesity  Non.Adherence  \\\n",
       "0  10-DEC-2142 00:00:00     0        0              0   \n",
       "\n",
       "   Developmental.Delay.Retardation  Advanced.Heart.Disease  \\\n",
       "0                                0                       0   \n",
       "\n",
       "   Advanced.Lung.Disease  Schizophrenia.and.other.Psychiatric.Disorders  \\\n",
       "0                      0                                              0   \n",
       "\n",
       "   Alcohol.Abuse  Other.Substance.Abuse  Chronic.Pain.Fibromyalgia  \\\n",
       "0              0                      0                          1   \n",
       "\n",
       "   Chronic.Neurological.Dystrophies  Advanced.Cancer  Depression  Dementia  \\\n",
       "0                                 1                0           0         0   \n",
       "\n",
       "   Unsure operator  \n",
       "0       0      JTW  "
      ]
     },
     "metadata": {},
     "output_type": "display_data"
    }
   ],
   "source": [
    "display.display(disch_notes.head(1))\n",
    "#print(disch_notes.loc[0,'text'])"
   ]
  },
  {
   "cell_type": "code",
   "execution_count": 23,
   "metadata": {
    "collapsed": true
   },
   "outputs": [],
   "source": [
    "mimic3_map = pd.read_csv(data_path.joinpath('mimic3_note_equivs_2016-10-22-03-39.csv').as_posix())"
   ]
  },
  {
   "cell_type": "code",
   "execution_count": 24,
   "metadata": {
    "collapsed": false
   },
   "outputs": [
    {
     "data": {
      "text/html": [
       "<div>\n",
       "<table border=\"1\" class=\"dataframe\">\n",
       "  <thead>\n",
       "    <tr style=\"text-align: right;\">\n",
       "      <th></th>\n",
       "      <th>subject_id</th>\n",
       "      <th>hadm_id</th>\n",
       "      <th>icustay_id</th>\n",
       "      <th>category</th>\n",
       "      <th>chartdate</th>\n",
       "      <th>charttime</th>\n",
       "      <th>realtime</th>\n",
       "      <th>length</th>\n",
       "      <th>md5</th>\n",
       "      <th>str_start</th>\n",
       "      <th>str_end</th>\n",
       "      <th>row_id_m3</th>\n",
       "      <th>chartdate_m3</th>\n",
       "      <th>charttime_m3</th>\n",
       "      <th>storetime_m3</th>\n",
       "      <th>md5_m3</th>\n",
       "      <th>str_start_m3</th>\n",
       "      <th>str_end_m3</th>\n",
       "      <th>len_diff_pct</th>\n",
       "      <th>str_start_diff</th>\n",
       "      <th>str_end_diff</th>\n",
       "      <th>total_m3_distance</th>\n",
       "    </tr>\n",
       "  </thead>\n",
       "  <tbody>\n",
       "    <tr>\n",
       "      <th>0</th>\n",
       "      <td>68.0</td>\n",
       "      <td>17608.0</td>\n",
       "      <td>78.0</td>\n",
       "      <td>Nursing/other</td>\n",
       "      <td>NaN</td>\n",
       "      <td>2728-12-13 16:51:00</td>\n",
       "      <td>2728-12-13 17:08:00</td>\n",
       "      <td>1666.0</td>\n",
       "      <td>27572b36bd4c26c322f50cf65d095d16</td>\n",
       "      <td>NSG0700-1900Events:Attemptedeatingbreakfastbutbeca</td>\n",
       "      <td>ine..?doubleorsinglelumen.Continuetomonitoroutput.</td>\n",
       "      <td>1261174.0</td>\n",
       "      <td>2173-12-16</td>\n",
       "      <td>2173-12-16 16:51:00</td>\n",
       "      <td>2173-12-16 17:08:00</td>\n",
       "      <td>a71a1009932ab1fce83b8867234ec9e4</td>\n",
       "      <td>NSG0700-1900Events:Attemptedeatingbreakfastbutbeca</td>\n",
       "      <td>ine..?doubleorsinglelumen.Continuetomonitoroutput.</td>\n",
       "      <td>0.001200</td>\n",
       "      <td>0.00</td>\n",
       "      <td>0.0</td>\n",
       "      <td>0.001200</td>\n",
       "    </tr>\n",
       "    <tr>\n",
       "      <th>1</th>\n",
       "      <td>109.0</td>\n",
       "      <td>164029.0</td>\n",
       "      <td>NaN</td>\n",
       "      <td>Discharge summary</td>\n",
       "      <td>2142-12-10</td>\n",
       "      <td>NaN</td>\n",
       "      <td>2142-12-10 00:00:00</td>\n",
       "      <td>7751.0</td>\n",
       "      <td>f5f69772c32f1b0ac05b7cf408f7a6db</td>\n",
       "      <td>:::Sex:FService:MEDICINEAllergies:PenicillinsAtten</td>\n",
       "      <td>rativeassistant,,atifyouneedtoconfirmorreschedule.</td>\n",
       "      <td>15322.0</td>\n",
       "      <td>2140-01-21</td>\n",
       "      <td>NaN</td>\n",
       "      <td>NaN</td>\n",
       "      <td>1770e41dbbe1a89a144bcebfad1fc87e</td>\n",
       "      <td>:::Sex:FService:MEDICINEAllergies:PenicillinsAtten</td>\n",
       "      <td>rativeassistant,,atifyouneedtoconfirmorreschedule.</td>\n",
       "      <td>0.002580</td>\n",
       "      <td>0.00</td>\n",
       "      <td>0.0</td>\n",
       "      <td>0.002580</td>\n",
       "    </tr>\n",
       "    <tr>\n",
       "      <th>2</th>\n",
       "      <td>109.0</td>\n",
       "      <td>26693.0</td>\n",
       "      <td>132.0</td>\n",
       "      <td>Nursing/other</td>\n",
       "      <td>NaN</td>\n",
       "      <td>3353-03-09 02:13:00</td>\n",
       "      <td>3353-03-09 02:47:00</td>\n",
       "      <td>2107.0</td>\n",
       "      <td>27d1f5907fa14b6702837a845f84c54e</td>\n",
       "      <td>ficunsgnote:21:30-7:00thisisa22y.o.womanadmwithlup</td>\n",
       "      <td>needtocontinuehemodialysisscheduleqtues/thurs/sat.</td>\n",
       "      <td>1261605.0</td>\n",
       "      <td>2140-04-08</td>\n",
       "      <td>2140-04-08 03:13:00</td>\n",
       "      <td>2140-04-08 03:47:00</td>\n",
       "      <td>6e88c96f2f3f7dab74d3732eec27dd35</td>\n",
       "      <td>nsgnote:21:30-7:00thisisa22y.o.womanadmwithlupusdx</td>\n",
       "      <td>needtocontinuehemodialysisscheduleqtues/thurs/sat.</td>\n",
       "      <td>0.031799</td>\n",
       "      <td>0.08</td>\n",
       "      <td>0.0</td>\n",
       "      <td>0.111799</td>\n",
       "    </tr>\n",
       "    <tr>\n",
       "      <th>3</th>\n",
       "      <td>109.0</td>\n",
       "      <td>12757.0</td>\n",
       "      <td>130.0</td>\n",
       "      <td>Nursing/other</td>\n",
       "      <td>NaN</td>\n",
       "      <td>3352-12-19 16:48:00</td>\n",
       "      <td>3352-12-19 17:05:00</td>\n",
       "      <td>1294.0</td>\n",
       "      <td>3e0fff775cfb678fdfa06ece68ebfab5</td>\n",
       "      <td>NPN7A-7PSeecarevueforspecifics:Briefly22yroldfemal</td>\n",
       "      <td>wnwhendialysiscompleted,LabetalolgttforSBP&gt;180prn.</td>\n",
       "      <td>1261597.0</td>\n",
       "      <td>2140-01-19</td>\n",
       "      <td>2140-01-19 16:48:00</td>\n",
       "      <td>2140-01-19 17:05:00</td>\n",
       "      <td>d3350e7e8b6a9073feae2c0f11ea82e3</td>\n",
       "      <td>NPN7A-7PSeecarevueforspecifics:Briefly22yroldfemal</td>\n",
       "      <td>wnwhendialysiscompleted,LabetalolgttforSBP&gt;180prn.</td>\n",
       "      <td>0.000773</td>\n",
       "      <td>0.00</td>\n",
       "      <td>0.0</td>\n",
       "      <td>0.000773</td>\n",
       "    </tr>\n",
       "    <tr>\n",
       "      <th>4</th>\n",
       "      <td>109.0</td>\n",
       "      <td>14234.0</td>\n",
       "      <td>129.0</td>\n",
       "      <td>Nursing/other</td>\n",
       "      <td>NaN</td>\n",
       "      <td>3351-03-18 02:36:00</td>\n",
       "      <td>3351-03-18 03:24:00</td>\n",
       "      <td>3083.0</td>\n",
       "      <td>8efc0a2ff698b75ce183e3183c1bf204</td>\n",
       "      <td>MICUA7P-7ASHIFTSUMMARYOFEVENTS:PTADMITTEDAT1930INH</td>\n",
       "      <td>byremovingclonodinepatches.tore-evalanti-hypertens</td>\n",
       "      <td>1261589.0</td>\n",
       "      <td>2138-04-17</td>\n",
       "      <td>2138-04-17 03:36:00</td>\n",
       "      <td>2138-04-17 04:24:00</td>\n",
       "      <td>b26423d357dc3009f6e063c405ce742e</td>\n",
       "      <td>MICUA7P-7ASHIFTSUMMARYOFEVENTS:PTADMITTEDATINHYPER</td>\n",
       "      <td>byremovingclonodinepatches.tore-evalanti-hypertens</td>\n",
       "      <td>0.013947</td>\n",
       "      <td>0.08</td>\n",
       "      <td>0.0</td>\n",
       "      <td>0.093947</td>\n",
       "    </tr>\n",
       "  </tbody>\n",
       "</table>\n",
       "</div>"
      ],
      "text/plain": [
       "   subject_id   hadm_id  icustay_id           category   chartdate  \\\n",
       "0        68.0   17608.0        78.0      Nursing/other         NaN   \n",
       "1       109.0  164029.0         NaN  Discharge summary  2142-12-10   \n",
       "2       109.0   26693.0       132.0      Nursing/other         NaN   \n",
       "3       109.0   12757.0       130.0      Nursing/other         NaN   \n",
       "4       109.0   14234.0       129.0      Nursing/other         NaN   \n",
       "\n",
       "             charttime             realtime  length  \\\n",
       "0  2728-12-13 16:51:00  2728-12-13 17:08:00  1666.0   \n",
       "1                  NaN  2142-12-10 00:00:00  7751.0   \n",
       "2  3353-03-09 02:13:00  3353-03-09 02:47:00  2107.0   \n",
       "3  3352-12-19 16:48:00  3352-12-19 17:05:00  1294.0   \n",
       "4  3351-03-18 02:36:00  3351-03-18 03:24:00  3083.0   \n",
       "\n",
       "                                md5  \\\n",
       "0  27572b36bd4c26c322f50cf65d095d16   \n",
       "1  f5f69772c32f1b0ac05b7cf408f7a6db   \n",
       "2  27d1f5907fa14b6702837a845f84c54e   \n",
       "3  3e0fff775cfb678fdfa06ece68ebfab5   \n",
       "4  8efc0a2ff698b75ce183e3183c1bf204   \n",
       "\n",
       "                                            str_start  \\\n",
       "0  NSG0700-1900Events:Attemptedeatingbreakfastbutbeca   \n",
       "1  :::Sex:FService:MEDICINEAllergies:PenicillinsAtten   \n",
       "2  ficunsgnote:21:30-7:00thisisa22y.o.womanadmwithlup   \n",
       "3  NPN7A-7PSeecarevueforspecifics:Briefly22yroldfemal   \n",
       "4  MICUA7P-7ASHIFTSUMMARYOFEVENTS:PTADMITTEDAT1930INH   \n",
       "\n",
       "                                              str_end  row_id_m3 chartdate_m3  \\\n",
       "0  ine..?doubleorsinglelumen.Continuetomonitoroutput.  1261174.0   2173-12-16   \n",
       "1  rativeassistant,,atifyouneedtoconfirmorreschedule.    15322.0   2140-01-21   \n",
       "2  needtocontinuehemodialysisscheduleqtues/thurs/sat.  1261605.0   2140-04-08   \n",
       "3  wnwhendialysiscompleted,LabetalolgttforSBP>180prn.  1261597.0   2140-01-19   \n",
       "4  byremovingclonodinepatches.tore-evalanti-hypertens  1261589.0   2138-04-17   \n",
       "\n",
       "          charttime_m3         storetime_m3                            md5_m3  \\\n",
       "0  2173-12-16 16:51:00  2173-12-16 17:08:00  a71a1009932ab1fce83b8867234ec9e4   \n",
       "1                  NaN                  NaN  1770e41dbbe1a89a144bcebfad1fc87e   \n",
       "2  2140-04-08 03:13:00  2140-04-08 03:47:00  6e88c96f2f3f7dab74d3732eec27dd35   \n",
       "3  2140-01-19 16:48:00  2140-01-19 17:05:00  d3350e7e8b6a9073feae2c0f11ea82e3   \n",
       "4  2138-04-17 03:36:00  2138-04-17 04:24:00  b26423d357dc3009f6e063c405ce742e   \n",
       "\n",
       "                                         str_start_m3  \\\n",
       "0  NSG0700-1900Events:Attemptedeatingbreakfastbutbeca   \n",
       "1  :::Sex:FService:MEDICINEAllergies:PenicillinsAtten   \n",
       "2  nsgnote:21:30-7:00thisisa22y.o.womanadmwithlupusdx   \n",
       "3  NPN7A-7PSeecarevueforspecifics:Briefly22yroldfemal   \n",
       "4  MICUA7P-7ASHIFTSUMMARYOFEVENTS:PTADMITTEDATINHYPER   \n",
       "\n",
       "                                           str_end_m3  len_diff_pct  \\\n",
       "0  ine..?doubleorsinglelumen.Continuetomonitoroutput.      0.001200   \n",
       "1  rativeassistant,,atifyouneedtoconfirmorreschedule.      0.002580   \n",
       "2  needtocontinuehemodialysisscheduleqtues/thurs/sat.      0.031799   \n",
       "3  wnwhendialysiscompleted,LabetalolgttforSBP>180prn.      0.000773   \n",
       "4  byremovingclonodinepatches.tore-evalanti-hypertens      0.013947   \n",
       "\n",
       "   str_start_diff  str_end_diff  total_m3_distance  \n",
       "0            0.00           0.0           0.001200  \n",
       "1            0.00           0.0           0.002580  \n",
       "2            0.08           0.0           0.111799  \n",
       "3            0.00           0.0           0.000773  \n",
       "4            0.08           0.0           0.093947  "
      ]
     },
     "execution_count": 24,
     "metadata": {},
     "output_type": "execute_result"
    }
   ],
   "source": [
    "mimic3_map.head(5)"
   ]
  },
  {
   "cell_type": "code",
   "execution_count": 25,
   "metadata": {
    "collapsed": true
   },
   "outputs": [],
   "source": [
    "disch_notes['md5'] = disch_notes['text'].apply(lambda x: hashlib.md5(x.encode('utf-8')).hexdigest())\n",
    "nursing_notes['md5'] = nursing_notes['text'].apply(lambda x: hashlib.md5(x.encode('utf-8')).hexdigest())"
   ]
  },
  {
   "cell_type": "code",
   "execution_count": 26,
   "metadata": {
    "collapsed": false
   },
   "outputs": [],
   "source": [
    "cols_to_keep = ['subject_id', 'category', 'md5', 'operator'] + categories\n",
    "comb_dat = pd.concat([disch_notes[cols_to_keep], nursing_notes[cols_to_keep]])"
   ]
  },
  {
   "cell_type": "code",
   "execution_count": 27,
   "metadata": {
    "collapsed": false
   },
   "outputs": [
    {
     "data": {
      "text/html": [
       "<div>\n",
       "<table border=\"1\" class=\"dataframe\">\n",
       "  <thead>\n",
       "    <tr style=\"text-align: right;\">\n",
       "      <th></th>\n",
       "      <th>subject_id</th>\n",
       "      <th>category</th>\n",
       "      <th>md5</th>\n",
       "      <th>operator</th>\n",
       "      <th>Advanced.Cancer</th>\n",
       "      <th>Advanced.Heart.Disease</th>\n",
       "      <th>Advanced.Lung.Disease</th>\n",
       "      <th>Alcohol.Abuse</th>\n",
       "      <th>Chronic.Neurological.Dystrophies</th>\n",
       "      <th>Chronic.Pain.Fibromyalgia</th>\n",
       "      <th>Dementia</th>\n",
       "      <th>Depression</th>\n",
       "      <th>Developmental.Delay.Retardation</th>\n",
       "      <th>Non.Adherence</th>\n",
       "      <th>None</th>\n",
       "      <th>Obesity</th>\n",
       "      <th>Other.Substance.Abuse</th>\n",
       "      <th>Schizophrenia.and.other.Psychiatric.Disorders</th>\n",
       "      <th>Unsure</th>\n",
       "    </tr>\n",
       "  </thead>\n",
       "  <tbody>\n",
       "    <tr>\n",
       "      <th>0</th>\n",
       "      <td>9973</td>\n",
       "      <td>Discharge</td>\n",
       "      <td>56f2598342cce321539d8975809d487c</td>\n",
       "      <td>JTW</td>\n",
       "      <td>0</td>\n",
       "      <td>0</td>\n",
       "      <td>0</td>\n",
       "      <td>0</td>\n",
       "      <td>1</td>\n",
       "      <td>1</td>\n",
       "      <td>0</td>\n",
       "      <td>0</td>\n",
       "      <td>0</td>\n",
       "      <td>0</td>\n",
       "      <td>0</td>\n",
       "      <td>0</td>\n",
       "      <td>0</td>\n",
       "      <td>0</td>\n",
       "      <td>0</td>\n",
       "    </tr>\n",
       "    <tr>\n",
       "      <th>1</th>\n",
       "      <td>9973</td>\n",
       "      <td>Discharge</td>\n",
       "      <td>56f2598342cce321539d8975809d487c</td>\n",
       "      <td>ETM</td>\n",
       "      <td>0</td>\n",
       "      <td>0</td>\n",
       "      <td>0</td>\n",
       "      <td>0</td>\n",
       "      <td>1</td>\n",
       "      <td>1</td>\n",
       "      <td>0</td>\n",
       "      <td>0</td>\n",
       "      <td>0</td>\n",
       "      <td>0</td>\n",
       "      <td>0</td>\n",
       "      <td>0</td>\n",
       "      <td>0</td>\n",
       "      <td>0</td>\n",
       "      <td>0</td>\n",
       "    </tr>\n",
       "    <tr>\n",
       "      <th>2</th>\n",
       "      <td>3365</td>\n",
       "      <td>Discharge</td>\n",
       "      <td>eaea5c3c7577135a83f1f0fb583e0d53</td>\n",
       "      <td>JTW</td>\n",
       "      <td>0</td>\n",
       "      <td>0</td>\n",
       "      <td>0</td>\n",
       "      <td>0</td>\n",
       "      <td>0</td>\n",
       "      <td>0</td>\n",
       "      <td>0</td>\n",
       "      <td>0</td>\n",
       "      <td>0</td>\n",
       "      <td>0</td>\n",
       "      <td>1</td>\n",
       "      <td>0</td>\n",
       "      <td>0</td>\n",
       "      <td>0</td>\n",
       "      <td>0</td>\n",
       "    </tr>\n",
       "    <tr>\n",
       "      <th>3</th>\n",
       "      <td>3365</td>\n",
       "      <td>Discharge</td>\n",
       "      <td>eaea5c3c7577135a83f1f0fb583e0d53</td>\n",
       "      <td>ETM</td>\n",
       "      <td>0</td>\n",
       "      <td>0</td>\n",
       "      <td>0</td>\n",
       "      <td>0</td>\n",
       "      <td>0</td>\n",
       "      <td>0</td>\n",
       "      <td>0</td>\n",
       "      <td>0</td>\n",
       "      <td>0</td>\n",
       "      <td>0</td>\n",
       "      <td>1</td>\n",
       "      <td>0</td>\n",
       "      <td>0</td>\n",
       "      <td>0</td>\n",
       "      <td>0</td>\n",
       "    </tr>\n",
       "    <tr>\n",
       "      <th>4</th>\n",
       "      <td>27290</td>\n",
       "      <td>Discharge</td>\n",
       "      <td>e7433c0b75ea00346390f029bb830774</td>\n",
       "      <td>JW</td>\n",
       "      <td>0</td>\n",
       "      <td>0</td>\n",
       "      <td>0</td>\n",
       "      <td>0</td>\n",
       "      <td>0</td>\n",
       "      <td>0</td>\n",
       "      <td>0</td>\n",
       "      <td>0</td>\n",
       "      <td>0</td>\n",
       "      <td>0</td>\n",
       "      <td>1</td>\n",
       "      <td>0</td>\n",
       "      <td>0</td>\n",
       "      <td>0</td>\n",
       "      <td>0</td>\n",
       "    </tr>\n",
       "  </tbody>\n",
       "</table>\n",
       "</div>"
      ],
      "text/plain": [
       "   subject_id   category                               md5 operator  \\\n",
       "0        9973  Discharge  56f2598342cce321539d8975809d487c      JTW   \n",
       "1        9973  Discharge  56f2598342cce321539d8975809d487c      ETM   \n",
       "2        3365  Discharge  eaea5c3c7577135a83f1f0fb583e0d53      JTW   \n",
       "3        3365  Discharge  eaea5c3c7577135a83f1f0fb583e0d53      ETM   \n",
       "4       27290  Discharge  e7433c0b75ea00346390f029bb830774       JW   \n",
       "\n",
       "   Advanced.Cancer  Advanced.Heart.Disease  Advanced.Lung.Disease  \\\n",
       "0                0                       0                      0   \n",
       "1                0                       0                      0   \n",
       "2                0                       0                      0   \n",
       "3                0                       0                      0   \n",
       "4                0                       0                      0   \n",
       "\n",
       "   Alcohol.Abuse  Chronic.Neurological.Dystrophies  Chronic.Pain.Fibromyalgia  \\\n",
       "0              0                                 1                          1   \n",
       "1              0                                 1                          1   \n",
       "2              0                                 0                          0   \n",
       "3              0                                 0                          0   \n",
       "4              0                                 0                          0   \n",
       "\n",
       "   Dementia  Depression  Developmental.Delay.Retardation  Non.Adherence  None  \\\n",
       "0         0           0                                0              0     0   \n",
       "1         0           0                                0              0     0   \n",
       "2         0           0                                0              0     1   \n",
       "3         0           0                                0              0     1   \n",
       "4         0           0                                0              0     1   \n",
       "\n",
       "   Obesity  Other.Substance.Abuse  \\\n",
       "0        0                      0   \n",
       "1        0                      0   \n",
       "2        0                      0   \n",
       "3        0                      0   \n",
       "4        0                      0   \n",
       "\n",
       "   Schizophrenia.and.other.Psychiatric.Disorders  Unsure  \n",
       "0                                              0       0  \n",
       "1                                              0       0  \n",
       "2                                              0       0  \n",
       "3                                              0       0  \n",
       "4                                              0       0  "
      ]
     },
     "execution_count": 27,
     "metadata": {},
     "output_type": "execute_result"
    }
   ],
   "source": [
    "comb_dat.head()"
   ]
  },
  {
   "cell_type": "code",
   "execution_count": 28,
   "metadata": {
    "collapsed": false
   },
   "outputs": [
    {
     "data": {
      "text/html": [
       "<div>\n",
       "<table border=\"1\" class=\"dataframe\">\n",
       "  <thead>\n",
       "    <tr style=\"text-align: right;\">\n",
       "      <th></th>\n",
       "      <th>subject_id</th>\n",
       "      <th>category</th>\n",
       "      <th>md5</th>\n",
       "      <th>operator</th>\n",
       "      <th>Advanced.Cancer</th>\n",
       "      <th>Advanced.Heart.Disease</th>\n",
       "      <th>Advanced.Lung.Disease</th>\n",
       "      <th>Alcohol.Abuse</th>\n",
       "      <th>Chronic.Neurological.Dystrophies</th>\n",
       "      <th>Chronic.Pain.Fibromyalgia</th>\n",
       "      <th>Dementia</th>\n",
       "      <th>Depression</th>\n",
       "      <th>Developmental.Delay.Retardation</th>\n",
       "      <th>Non.Adherence</th>\n",
       "      <th>None</th>\n",
       "      <th>Obesity</th>\n",
       "      <th>Other.Substance.Abuse</th>\n",
       "      <th>Schizophrenia.and.other.Psychiatric.Disorders</th>\n",
       "      <th>Unsure</th>\n",
       "    </tr>\n",
       "  </thead>\n",
       "  <tbody>\n",
       "    <tr>\n",
       "      <th>1994</th>\n",
       "      <td>28068</td>\n",
       "      <td>Nursing/Other</td>\n",
       "      <td>de1d6912eb489b0ab1cb35137c69e995</td>\n",
       "      <td>ETM</td>\n",
       "      <td>0</td>\n",
       "      <td>0</td>\n",
       "      <td>0</td>\n",
       "      <td>0</td>\n",
       "      <td>0</td>\n",
       "      <td>0</td>\n",
       "      <td>0</td>\n",
       "      <td>0</td>\n",
       "      <td>0</td>\n",
       "      <td>0</td>\n",
       "      <td>1</td>\n",
       "      <td>0</td>\n",
       "      <td>0</td>\n",
       "      <td>0</td>\n",
       "      <td>0</td>\n",
       "    </tr>\n",
       "    <tr>\n",
       "      <th>1995</th>\n",
       "      <td>28068</td>\n",
       "      <td>Nursing/Other</td>\n",
       "      <td>de1d6912eb489b0ab1cb35137c69e995</td>\n",
       "      <td>JTW</td>\n",
       "      <td>0</td>\n",
       "      <td>0</td>\n",
       "      <td>0</td>\n",
       "      <td>0</td>\n",
       "      <td>0</td>\n",
       "      <td>0</td>\n",
       "      <td>0</td>\n",
       "      <td>0</td>\n",
       "      <td>0</td>\n",
       "      <td>0</td>\n",
       "      <td>1</td>\n",
       "      <td>0</td>\n",
       "      <td>0</td>\n",
       "      <td>0</td>\n",
       "      <td>0</td>\n",
       "    </tr>\n",
       "    <tr>\n",
       "      <th>1996</th>\n",
       "      <td>31369</td>\n",
       "      <td>Nursing/Other</td>\n",
       "      <td>2302d0a9ce57a278e84dbbb04f599089</td>\n",
       "      <td>JF</td>\n",
       "      <td>0</td>\n",
       "      <td>0</td>\n",
       "      <td>0</td>\n",
       "      <td>0</td>\n",
       "      <td>0</td>\n",
       "      <td>0</td>\n",
       "      <td>0</td>\n",
       "      <td>0</td>\n",
       "      <td>0</td>\n",
       "      <td>0</td>\n",
       "      <td>1</td>\n",
       "      <td>0</td>\n",
       "      <td>0</td>\n",
       "      <td>0</td>\n",
       "      <td>0</td>\n",
       "    </tr>\n",
       "    <tr>\n",
       "      <th>1997</th>\n",
       "      <td>31369</td>\n",
       "      <td>Nursing/Other</td>\n",
       "      <td>2302d0a9ce57a278e84dbbb04f599089</td>\n",
       "      <td>JW</td>\n",
       "      <td>1</td>\n",
       "      <td>0</td>\n",
       "      <td>0</td>\n",
       "      <td>0</td>\n",
       "      <td>0</td>\n",
       "      <td>0</td>\n",
       "      <td>0</td>\n",
       "      <td>0</td>\n",
       "      <td>0</td>\n",
       "      <td>0</td>\n",
       "      <td>0</td>\n",
       "      <td>0</td>\n",
       "      <td>0</td>\n",
       "      <td>0</td>\n",
       "      <td>1</td>\n",
       "    </tr>\n",
       "    <tr>\n",
       "      <th>1998</th>\n",
       "      <td>31369</td>\n",
       "      <td>Nursing/Other</td>\n",
       "      <td>2302d0a9ce57a278e84dbbb04f599089</td>\n",
       "      <td>JF</td>\n",
       "      <td>0</td>\n",
       "      <td>0</td>\n",
       "      <td>0</td>\n",
       "      <td>0</td>\n",
       "      <td>0</td>\n",
       "      <td>0</td>\n",
       "      <td>0</td>\n",
       "      <td>0</td>\n",
       "      <td>0</td>\n",
       "      <td>0</td>\n",
       "      <td>1</td>\n",
       "      <td>0</td>\n",
       "      <td>0</td>\n",
       "      <td>0</td>\n",
       "      <td>0</td>\n",
       "    </tr>\n",
       "  </tbody>\n",
       "</table>\n",
       "</div>"
      ],
      "text/plain": [
       "      subject_id       category                               md5 operator  \\\n",
       "1994       28068  Nursing/Other  de1d6912eb489b0ab1cb35137c69e995      ETM   \n",
       "1995       28068  Nursing/Other  de1d6912eb489b0ab1cb35137c69e995      JTW   \n",
       "1996       31369  Nursing/Other  2302d0a9ce57a278e84dbbb04f599089       JF   \n",
       "1997       31369  Nursing/Other  2302d0a9ce57a278e84dbbb04f599089       JW   \n",
       "1998       31369  Nursing/Other  2302d0a9ce57a278e84dbbb04f599089       JF   \n",
       "\n",
       "      Advanced.Cancer  Advanced.Heart.Disease  Advanced.Lung.Disease  \\\n",
       "1994                0                       0                      0   \n",
       "1995                0                       0                      0   \n",
       "1996                0                       0                      0   \n",
       "1997                1                       0                      0   \n",
       "1998                0                       0                      0   \n",
       "\n",
       "      Alcohol.Abuse  Chronic.Neurological.Dystrophies  \\\n",
       "1994              0                                 0   \n",
       "1995              0                                 0   \n",
       "1996              0                                 0   \n",
       "1997              0                                 0   \n",
       "1998              0                                 0   \n",
       "\n",
       "      Chronic.Pain.Fibromyalgia  Dementia  Depression  \\\n",
       "1994                          0         0           0   \n",
       "1995                          0         0           0   \n",
       "1996                          0         0           0   \n",
       "1997                          0         0           0   \n",
       "1998                          0         0           0   \n",
       "\n",
       "      Developmental.Delay.Retardation  Non.Adherence  None  Obesity  \\\n",
       "1994                                0              0     1        0   \n",
       "1995                                0              0     1        0   \n",
       "1996                                0              0     1        0   \n",
       "1997                                0              0     0        0   \n",
       "1998                                0              0     1        0   \n",
       "\n",
       "      Other.Substance.Abuse  Schizophrenia.and.other.Psychiatric.Disorders  \\\n",
       "1994                      0                                              0   \n",
       "1995                      0                                              0   \n",
       "1996                      0                                              0   \n",
       "1997                      0                                              0   \n",
       "1998                      0                                              0   \n",
       "\n",
       "      Unsure  \n",
       "1994       0  \n",
       "1995       0  \n",
       "1996       0  \n",
       "1997       1  \n",
       "1998       0  "
      ]
     },
     "execution_count": 28,
     "metadata": {},
     "output_type": "execute_result"
    }
   ],
   "source": [
    "comb_dat.tail()"
   ]
  },
  {
   "cell_type": "code",
   "execution_count": 29,
   "metadata": {
    "collapsed": false
   },
   "outputs": [],
   "source": [
    "comb_dat = pd.merge(comb_dat, mimic3_map[['md5', 'row_id_m3', 'total_m3_distance']], on='md5', how='left')"
   ]
  },
  {
   "cell_type": "code",
   "execution_count": 30,
   "metadata": {
    "collapsed": false
   },
   "outputs": [
    {
     "data": {
      "text/html": [
       "<div>\n",
       "<table border=\"1\" class=\"dataframe\">\n",
       "  <thead>\n",
       "    <tr style=\"text-align: right;\">\n",
       "      <th></th>\n",
       "      <th>subject_id</th>\n",
       "      <th>category</th>\n",
       "      <th>md5</th>\n",
       "      <th>operator</th>\n",
       "      <th>Advanced.Cancer</th>\n",
       "      <th>Advanced.Heart.Disease</th>\n",
       "      <th>Advanced.Lung.Disease</th>\n",
       "      <th>Alcohol.Abuse</th>\n",
       "      <th>Chronic.Neurological.Dystrophies</th>\n",
       "      <th>Chronic.Pain.Fibromyalgia</th>\n",
       "      <th>Dementia</th>\n",
       "      <th>Depression</th>\n",
       "      <th>Developmental.Delay.Retardation</th>\n",
       "      <th>Non.Adherence</th>\n",
       "      <th>None</th>\n",
       "      <th>Obesity</th>\n",
       "      <th>Other.Substance.Abuse</th>\n",
       "      <th>Schizophrenia.and.other.Psychiatric.Disorders</th>\n",
       "      <th>Unsure</th>\n",
       "      <th>row_id_m3</th>\n",
       "      <th>total_m3_distance</th>\n",
       "    </tr>\n",
       "  </thead>\n",
       "  <tbody>\n",
       "    <tr>\n",
       "      <th>0</th>\n",
       "      <td>9973</td>\n",
       "      <td>Discharge</td>\n",
       "      <td>56f2598342cce321539d8975809d487c</td>\n",
       "      <td>JTW</td>\n",
       "      <td>0</td>\n",
       "      <td>0</td>\n",
       "      <td>0</td>\n",
       "      <td>0</td>\n",
       "      <td>1</td>\n",
       "      <td>1</td>\n",
       "      <td>0</td>\n",
       "      <td>0</td>\n",
       "      <td>0</td>\n",
       "      <td>0</td>\n",
       "      <td>0</td>\n",
       "      <td>0</td>\n",
       "      <td>0</td>\n",
       "      <td>0</td>\n",
       "      <td>0</td>\n",
       "      <td>NaN</td>\n",
       "      <td>NaN</td>\n",
       "    </tr>\n",
       "    <tr>\n",
       "      <th>1</th>\n",
       "      <td>9973</td>\n",
       "      <td>Discharge</td>\n",
       "      <td>56f2598342cce321539d8975809d487c</td>\n",
       "      <td>ETM</td>\n",
       "      <td>0</td>\n",
       "      <td>0</td>\n",
       "      <td>0</td>\n",
       "      <td>0</td>\n",
       "      <td>1</td>\n",
       "      <td>1</td>\n",
       "      <td>0</td>\n",
       "      <td>0</td>\n",
       "      <td>0</td>\n",
       "      <td>0</td>\n",
       "      <td>0</td>\n",
       "      <td>0</td>\n",
       "      <td>0</td>\n",
       "      <td>0</td>\n",
       "      <td>0</td>\n",
       "      <td>NaN</td>\n",
       "      <td>NaN</td>\n",
       "    </tr>\n",
       "    <tr>\n",
       "      <th>2</th>\n",
       "      <td>3365</td>\n",
       "      <td>Discharge</td>\n",
       "      <td>eaea5c3c7577135a83f1f0fb583e0d53</td>\n",
       "      <td>JTW</td>\n",
       "      <td>0</td>\n",
       "      <td>0</td>\n",
       "      <td>0</td>\n",
       "      <td>0</td>\n",
       "      <td>0</td>\n",
       "      <td>0</td>\n",
       "      <td>0</td>\n",
       "      <td>0</td>\n",
       "      <td>0</td>\n",
       "      <td>0</td>\n",
       "      <td>1</td>\n",
       "      <td>0</td>\n",
       "      <td>0</td>\n",
       "      <td>0</td>\n",
       "      <td>0</td>\n",
       "      <td>17170.0</td>\n",
       "      <td>0.000884</td>\n",
       "    </tr>\n",
       "    <tr>\n",
       "      <th>3</th>\n",
       "      <td>3365</td>\n",
       "      <td>Discharge</td>\n",
       "      <td>eaea5c3c7577135a83f1f0fb583e0d53</td>\n",
       "      <td>ETM</td>\n",
       "      <td>0</td>\n",
       "      <td>0</td>\n",
       "      <td>0</td>\n",
       "      <td>0</td>\n",
       "      <td>0</td>\n",
       "      <td>0</td>\n",
       "      <td>0</td>\n",
       "      <td>0</td>\n",
       "      <td>0</td>\n",
       "      <td>0</td>\n",
       "      <td>1</td>\n",
       "      <td>0</td>\n",
       "      <td>0</td>\n",
       "      <td>0</td>\n",
       "      <td>0</td>\n",
       "      <td>17170.0</td>\n",
       "      <td>0.000884</td>\n",
       "    </tr>\n",
       "    <tr>\n",
       "      <th>4</th>\n",
       "      <td>27290</td>\n",
       "      <td>Discharge</td>\n",
       "      <td>e7433c0b75ea00346390f029bb830774</td>\n",
       "      <td>JW</td>\n",
       "      <td>0</td>\n",
       "      <td>0</td>\n",
       "      <td>0</td>\n",
       "      <td>0</td>\n",
       "      <td>0</td>\n",
       "      <td>0</td>\n",
       "      <td>0</td>\n",
       "      <td>0</td>\n",
       "      <td>0</td>\n",
       "      <td>0</td>\n",
       "      <td>1</td>\n",
       "      <td>0</td>\n",
       "      <td>0</td>\n",
       "      <td>0</td>\n",
       "      <td>0</td>\n",
       "      <td>50828.0</td>\n",
       "      <td>0.001554</td>\n",
       "    </tr>\n",
       "  </tbody>\n",
       "</table>\n",
       "</div>"
      ],
      "text/plain": [
       "   subject_id   category                               md5 operator  \\\n",
       "0        9973  Discharge  56f2598342cce321539d8975809d487c      JTW   \n",
       "1        9973  Discharge  56f2598342cce321539d8975809d487c      ETM   \n",
       "2        3365  Discharge  eaea5c3c7577135a83f1f0fb583e0d53      JTW   \n",
       "3        3365  Discharge  eaea5c3c7577135a83f1f0fb583e0d53      ETM   \n",
       "4       27290  Discharge  e7433c0b75ea00346390f029bb830774       JW   \n",
       "\n",
       "   Advanced.Cancer  Advanced.Heart.Disease  Advanced.Lung.Disease  \\\n",
       "0                0                       0                      0   \n",
       "1                0                       0                      0   \n",
       "2                0                       0                      0   \n",
       "3                0                       0                      0   \n",
       "4                0                       0                      0   \n",
       "\n",
       "   Alcohol.Abuse  Chronic.Neurological.Dystrophies  Chronic.Pain.Fibromyalgia  \\\n",
       "0              0                                 1                          1   \n",
       "1              0                                 1                          1   \n",
       "2              0                                 0                          0   \n",
       "3              0                                 0                          0   \n",
       "4              0                                 0                          0   \n",
       "\n",
       "   Dementia  Depression  Developmental.Delay.Retardation  Non.Adherence  None  \\\n",
       "0         0           0                                0              0     0   \n",
       "1         0           0                                0              0     0   \n",
       "2         0           0                                0              0     1   \n",
       "3         0           0                                0              0     1   \n",
       "4         0           0                                0              0     1   \n",
       "\n",
       "   Obesity  Other.Substance.Abuse  \\\n",
       "0        0                      0   \n",
       "1        0                      0   \n",
       "2        0                      0   \n",
       "3        0                      0   \n",
       "4        0                      0   \n",
       "\n",
       "   Schizophrenia.and.other.Psychiatric.Disorders  Unsure  row_id_m3  \\\n",
       "0                                              0       0        NaN   \n",
       "1                                              0       0        NaN   \n",
       "2                                              0       0    17170.0   \n",
       "3                                              0       0    17170.0   \n",
       "4                                              0       0    50828.0   \n",
       "\n",
       "   total_m3_distance  \n",
       "0                NaN  \n",
       "1                NaN  \n",
       "2           0.000884  \n",
       "3           0.000884  \n",
       "4           0.001554  "
      ]
     },
     "execution_count": 30,
     "metadata": {},
     "output_type": "execute_result"
    }
   ],
   "source": [
    "comb_dat.head()"
   ]
  },
  {
   "cell_type": "code",
   "execution_count": 31,
   "metadata": {
    "collapsed": false
   },
   "outputs": [
    {
     "name": "stdout",
     "output_type": "stream",
     "text": [
      "2.6% of notes had no exact match in MIMIC 3\n"
     ]
    }
   ],
   "source": [
    "grouped = comb_dat.groupby('md5')['total_m3_distance'].last()\n",
    "pct_unmatched = grouped.isnull().sum()/grouped.count() * 100\n",
    "print('{:3.2}% of notes had no exact match in MIMIC 3'.format(pct_unmatched))"
   ]
  },
  {
   "cell_type": "code",
   "execution_count": 56,
   "metadata": {
    "collapsed": false
   },
   "outputs": [
    {
     "name": "stderr",
     "output_type": "stream",
     "text": [
      "2016-10-24 16:41:49,493 - root - INFO - ../../data/combined_label_data_2016-10-24-16-35.csv\n"
     ]
    }
   ],
   "source": [
    "output_path = pl.Path(path_config['repo_data_dir']).joinpath('combined_label_data_{}.csv'.format(time_str))\n",
    "logger.info(output_path)\n",
    "comb_dat.to_csv(output_path.as_posix(), index=False)"
   ]
  },
  {
   "cell_type": "markdown",
   "metadata": {},
   "source": [
    "# Gather patient's data from the database and export"
   ]
  },
  {
   "cell_type": "markdown",
   "metadata": {},
   "source": [
    "## Test functions for gathering data"
   ]
  },
  {
   "cell_type": "code",
   "execution_count": 33,
   "metadata": {
    "collapsed": false
   },
   "outputs": [],
   "source": [
    "note_meta = sdu.get_note_metadata(conn, comb_dat.loc[2, 'row_id_m3'])"
   ]
  },
  {
   "cell_type": "code",
   "execution_count": 34,
   "metadata": {
    "collapsed": false
   },
   "outputs": [
    {
     "name": "stdout",
     "output_type": "stream",
     "text": [
      "cgid:\tNone\n",
      "charttime:\tNone\n",
      "storetime:\tNone\n",
      "chartdate:\t2179-12-23 00:00:00\n",
      "subject_id:\t3365\n",
      "hadm_id:\t100103\n"
     ]
    }
   ],
   "source": [
    "for (k, v) in note_meta.items():\n",
    "    print(\"{}:\\t{}\".format(k, v))"
   ]
  },
  {
   "cell_type": "code",
   "execution_count": 35,
   "metadata": {
    "collapsed": false
   },
   "outputs": [
    {
     "data": {
      "text/plain": [
       "dict_keys(['cgid', 'charttime', 'storetime', 'chartdate', 'subject_id', 'hadm_id'])"
      ]
     },
     "execution_count": 35,
     "metadata": {},
     "output_type": "execute_result"
    }
   ],
   "source": [
    "note_meta.keys()"
   ]
  },
  {
   "cell_type": "code",
   "execution_count": 36,
   "metadata": {
    "collapsed": false
   },
   "outputs": [],
   "source": [
    "diags = sdu.get_hadm_diagnoses(conn, note_meta['hadm_id'])"
   ]
  },
  {
   "cell_type": "code",
   "execution_count": 37,
   "metadata": {
    "collapsed": false
   },
   "outputs": [
    {
     "data": {
      "text/plain": [
       "[{'clean_icd9_code': '396.3',\n",
       "  'hadm_id': 100103,\n",
       "  'icd9_code': '3963',\n",
       "  'known_icd9_code': True,\n",
       "  'long_title': 'Mitral valve insufficiency and aortic valve insufficiency',\n",
       "  'seq_num': 1,\n",
       "  'short_title': 'Mitral/aortic val insuff',\n",
       "  'subject_id': 3365},\n",
       " {'clean_icd9_code': '398.91',\n",
       "  'hadm_id': 100103,\n",
       "  'icd9_code': '39891',\n",
       "  'known_icd9_code': True,\n",
       "  'long_title': 'Rheumatic heart failure (congestive)',\n",
       "  'seq_num': 2,\n",
       "  'short_title': 'Rheumatic heart failure',\n",
       "  'subject_id': 3365},\n",
       " {'clean_icd9_code': '427.31',\n",
       "  'hadm_id': 100103,\n",
       "  'icd9_code': '42731',\n",
       "  'known_icd9_code': True,\n",
       "  'long_title': 'Atrial fibrillation',\n",
       "  'seq_num': 3,\n",
       "  'short_title': 'Atrial fibrillation',\n",
       "  'subject_id': 3365}]"
      ]
     },
     "execution_count": 37,
     "metadata": {},
     "output_type": "execute_result"
    }
   ],
   "source": [
    "diags[:3]"
   ]
  },
  {
   "cell_type": "code",
   "execution_count": 38,
   "metadata": {
    "collapsed": false
   },
   "outputs": [
    {
     "data": {
      "text/plain": [
       "['396.3',\n",
       " '398.91',\n",
       " '427.31',\n",
       " '414.01',\n",
       " '401.9',\n",
       " '272.4',\n",
       " '530.81',\n",
       " 'V10.11',\n",
       " 'V15.2']"
      ]
     },
     "execution_count": 38,
     "metadata": {},
     "output_type": "execute_result"
    }
   ],
   "source": [
    "[d['clean_icd9_code'] for d in diags if d['known_icd9_code']]"
   ]
  },
  {
   "cell_type": "code",
   "execution_count": 39,
   "metadata": {
    "collapsed": false
   },
   "outputs": [
    {
     "name": "stdout",
     "output_type": "stream",
     "text": [
      "Parents:\n",
      "- ROOT: ROOT\n",
      "- 390-459: DISEASES OF THE CIRCULATORY SYSTEM \n",
      "- 393-398: CHRONIC RHEUMATIC HEART DISEASE \n",
      "- 396: Diseases of mitral and aortic valves\n",
      "- 396.3: Mitral valve insufficiency and aortic valve insufficiency\n",
      "\n",
      "-> 396.3: Mitral valve insufficiency and aortic valve insufficiency\n",
      "\n",
      "Children:\n"
     ]
    }
   ],
   "source": [
    "sdu.print_icd9_tree(diags[0]['clean_icd9_code'])"
   ]
  },
  {
   "cell_type": "code",
   "execution_count": 40,
   "metadata": {
    "collapsed": false
   },
   "outputs": [
    {
     "name": "stdout",
     "output_type": "stream",
     "text": [
      "Parents:\n",
      "- ROOT: ROOT\n",
      "- 240-279: ENDOCRINE, NUTRITIONAL AND METABOLIC DISEASES, AND IMMUNITY DISORDERS \n",
      "- 270-279: OTHER METABOLIC AND IMMUNITY DISORDERS \n",
      "- 272: Disorders of lipoid metabolism\n",
      "- 272.4: Other and unspecified hyperlipidemia\n",
      "\n",
      "-> 272.4: Other and unspecified hyperlipidemia\n",
      "\n",
      "Children:\n"
     ]
    }
   ],
   "source": [
    "sdu.print_icd9_tree(diags[5]['clean_icd9_code'])"
   ]
  },
  {
   "cell_type": "code",
   "execution_count": 41,
   "metadata": {
    "collapsed": false
   },
   "outputs": [
    {
     "name": "stdout",
     "output_type": "stream",
     "text": [
      "Parents:\n",
      "- ROOT: ROOT\n",
      "- V10-V19: PERSONS WITH POTENTIAL HEALTH HAZARDS RELATED TO PERSONAL AND FAMILY HISTORY \n",
      "- V10: Personal history of malignant neoplasm\n",
      "- V10.1: Trachea, bronchus, and lung\n",
      "- V10.11: Bronchus and lung\n",
      "\n",
      "-> V10.11: Bronchus and lung\n",
      "\n",
      "Children:\n"
     ]
    }
   ],
   "source": [
    "sdu.print_icd9_tree(diags[7]['clean_icd9_code'])"
   ]
  },
  {
   "cell_type": "code",
   "execution_count": 42,
   "metadata": {
    "collapsed": false
   },
   "outputs": [
    {
     "name": "stdout",
     "output_type": "stream",
     "text": [
      "Parents:\n",
      "- ROOT: ROOT\n",
      "- V10-V19: PERSONS WITH POTENTIAL HEALTH HAZARDS RELATED TO PERSONAL AND FAMILY HISTORY \n",
      "- V15: Other personal history presenting hazards to health\n",
      "- V15.2: Surgery to other organs\n",
      "\n",
      "-> V15.2: Surgery to other organs\n",
      "\n",
      "Children:\n",
      "- V15.29: Surgery to other organs\n",
      "- V15.22: Personal history of undergoing in utero procedure while a fetus\n",
      "- V15.21: Personal history of undergoing in utero procedure during pregnancy\n"
     ]
    }
   ],
   "source": [
    "sdu.print_icd9_tree(diags[8]['clean_icd9_code'])"
   ]
  },
  {
   "cell_type": "code",
   "execution_count": 43,
   "metadata": {
    "collapsed": false
   },
   "outputs": [
    {
     "data": {
      "text/plain": [
       "<module 'structured_data_utils' from '/mnt/cbds_homes/ecarlson/Notebooks/mit_frequent_fliers/mit-team-code/software/notebooks/structured_data_utils.py'>"
      ]
     },
     "execution_count": 43,
     "metadata": {},
     "output_type": "execute_result"
    }
   ],
   "source": [
    "reload(sdu)"
   ]
  },
  {
   "cell_type": "code",
   "execution_count": 44,
   "metadata": {
    "collapsed": false
   },
   "outputs": [
    {
     "name": "stdout",
     "output_type": "stream",
     "text": [
      "Parents:\n",
      "- ROOT: ROOT\n",
      "- V10-V19: PERSONS WITH POTENTIAL HEALTH HAZARDS RELATED TO PERSONAL AND FAMILY HISTORY \n",
      "- V15: Other personal history presenting hazards to health\n",
      "- V15.2: Surgery to other organs\n",
      "\n",
      "-> V15.2: Surgery to other organs\n",
      "\n",
      "Children:\n",
      "- V15.29: Surgery to other organs\n",
      "- V15.22: Personal history of undergoing in utero procedure while a fetus\n",
      "- V15.21: Personal history of undergoing in utero procedure during pregnancy\n"
     ]
    }
   ],
   "source": [
    "sdu.print_icd9_tree(diags[8]['clean_icd9_code'])"
   ]
  },
  {
   "cell_type": "code",
   "execution_count": 45,
   "metadata": {
    "collapsed": false
   },
   "outputs": [
    {
     "data": {
      "text/plain": [
       "['V10-V19', 'V15', 'V15.2']"
      ]
     },
     "execution_count": 45,
     "metadata": {},
     "output_type": "execute_result"
    }
   ],
   "source": [
    "sdu.get_icd9_levels(diags[8]['clean_icd9_code'], 5)"
   ]
  },
  {
   "cell_type": "markdown",
   "metadata": {},
   "source": [
    "## Gather the data"
   ]
  },
  {
   "cell_type": "code",
   "execution_count": 46,
   "metadata": {
    "collapsed": false
   },
   "outputs": [
    {
     "data": {
      "text/plain": [
       "<module 'structured_data_utils' from '/mnt/cbds_homes/ecarlson/Notebooks/mit_frequent_fliers/mit-team-code/software/notebooks/structured_data_utils.py'>"
      ]
     },
     "execution_count": 46,
     "metadata": {},
     "output_type": "execute_result"
    }
   ],
   "source": [
    "reload(sdu)"
   ]
  },
  {
   "cell_type": "code",
   "execution_count": 47,
   "metadata": {
    "collapsed": false
   },
   "outputs": [],
   "source": [
    "found_notes = comb_dat.loc[comb_dat['row_id_m3'].notnull()].\\\n",
    "    groupby(['subject_id', 'md5', 'row_id_m3']).count()['total_m3_distance'].index.tolist()"
   ]
  },
  {
   "cell_type": "code",
   "execution_count": 48,
   "metadata": {
    "collapsed": false
   },
   "outputs": [],
   "source": [
    "note_info = {}\n",
    "for idx in found_notes:\n",
    "    note_meta = sdu.get_note_metadata(conn, idx[2])\n",
    "    note_diag = sdu.get_hadm_diagnoses(conn, note_meta['hadm_id'])\n",
    "    dat = {'meta': note_meta, 'diagnoses': note_diag}\n",
    "    note_info[idx] = dat"
   ]
  },
  {
   "cell_type": "code",
   "execution_count": 49,
   "metadata": {
    "collapsed": false
   },
   "outputs": [
    {
     "data": {
      "text/plain": [
       "{'diagnoses': [{'clean_icd9_code': '410.71',\n",
       "   'hadm_id': 172993,\n",
       "   'icd9_code': '41071',\n",
       "   'known_icd9_code': False,\n",
       "   'long_title': 'Subendocardial infarction, initial episode of care',\n",
       "   'seq_num': 1,\n",
       "   'short_title': 'Subendo infarct, initial',\n",
       "   'subject_id': 11590},\n",
       "  {'clean_icd9_code': '398.91',\n",
       "   'hadm_id': 172993,\n",
       "   'icd9_code': '39891',\n",
       "   'known_icd9_code': True,\n",
       "   'long_title': 'Rheumatic heart failure (congestive)',\n",
       "   'seq_num': 2,\n",
       "   'short_title': 'Rheumatic heart failure',\n",
       "   'subject_id': 11590},\n",
       "  {'clean_icd9_code': '396.3',\n",
       "   'hadm_id': 172993,\n",
       "   'icd9_code': '3963',\n",
       "   'known_icd9_code': True,\n",
       "   'long_title': 'Mitral valve insufficiency and aortic valve insufficiency',\n",
       "   'seq_num': 3,\n",
       "   'short_title': 'Mitral/aortic val insuff',\n",
       "   'subject_id': 11590},\n",
       "  {'clean_icd9_code': '397.0',\n",
       "   'hadm_id': 172993,\n",
       "   'icd9_code': '3970',\n",
       "   'known_icd9_code': True,\n",
       "   'long_title': 'Diseases of tricuspid valve',\n",
       "   'seq_num': 4,\n",
       "   'short_title': 'Tricuspid valve disease',\n",
       "   'subject_id': 11590},\n",
       "  {'clean_icd9_code': '042',\n",
       "   'hadm_id': 172993,\n",
       "   'icd9_code': '042',\n",
       "   'known_icd9_code': True,\n",
       "   'long_title': 'Human immunodeficiency virus [HIV] disease',\n",
       "   'seq_num': 5,\n",
       "   'short_title': 'Human immuno virus dis',\n",
       "   'subject_id': 11590},\n",
       "  {'clean_icd9_code': '403.91',\n",
       "   'hadm_id': 172993,\n",
       "   'icd9_code': '40391',\n",
       "   'known_icd9_code': False,\n",
       "   'long_title': 'Hypertensive chronic kidney disease, unspecified, with chronic kidney disease stage V or end stage renal disease',\n",
       "   'seq_num': 6,\n",
       "   'short_title': 'Hyp kid NOS w cr kid V',\n",
       "   'subject_id': 11590},\n",
       "  {'clean_icd9_code': '518.81',\n",
       "   'hadm_id': 172993,\n",
       "   'icd9_code': '51881',\n",
       "   'known_icd9_code': True,\n",
       "   'long_title': 'Acute respiratory failure',\n",
       "   'seq_num': 7,\n",
       "   'short_title': 'Acute respiratry failure',\n",
       "   'subject_id': 11590},\n",
       "  {'clean_icd9_code': '414.01',\n",
       "   'hadm_id': 172993,\n",
       "   'icd9_code': '41401',\n",
       "   'known_icd9_code': True,\n",
       "   'long_title': 'Coronary atherosclerosis of native coronary artery',\n",
       "   'seq_num': 8,\n",
       "   'short_title': 'Crnry athrscl natve vssl',\n",
       "   'subject_id': 11590},\n",
       "  {'clean_icd9_code': '272.0',\n",
       "   'hadm_id': 172993,\n",
       "   'icd9_code': '2720',\n",
       "   'known_icd9_code': True,\n",
       "   'long_title': 'Pure hypercholesterolemia',\n",
       "   'seq_num': 9,\n",
       "   'short_title': 'Pure hypercholesterolem',\n",
       "   'subject_id': 11590}],\n",
       " 'meta': {'cgid': 17770,\n",
       "  'chartdate': datetime.datetime(2154, 6, 3, 0, 0),\n",
       "  'charttime': datetime.datetime(2154, 6, 3, 17, 30),\n",
       "  'hadm_id': 172993,\n",
       "  'storetime': datetime.datetime(2154, 6, 3, 17, 51),\n",
       "  'subject_id': 11590}}"
      ]
     },
     "execution_count": 49,
     "metadata": {},
     "output_type": "execute_result"
    }
   ],
   "source": [
    "note_info[[k for k in note_info.keys()][0]]"
   ]
  },
  {
   "cell_type": "code",
   "execution_count": 50,
   "metadata": {
    "collapsed": false
   },
   "outputs": [
    {
     "name": "stderr",
     "output_type": "stream",
     "text": [
      "2016-10-24 16:37:32,527 - root - INFO - Unknown code (41071) for subject (11590)\n",
      "2016-10-24 16:37:32,575 - root - INFO - Unknown code (40391) for subject (11590)\n",
      "2016-10-24 16:37:32,646 - root - INFO - Unknown code (41072) for subject (14342)\n",
      "2016-10-24 16:37:32,647 - root - INFO - Unknown code (2859) for subject (14342)\n",
      "2016-10-24 16:37:32,657 - root - INFO - Unknown code (2800) for subject (8217)\n",
      "2016-10-24 16:37:32,662 - root - INFO - Unknown code (53200) for subject (8217)\n",
      "2016-10-24 16:37:32,709 - root - INFO - Unknown code (2851) for subject (23829)\n",
      "2016-10-24 16:37:32,733 - root - INFO - Unknown code (E8498) for subject (23829)\n",
      "2016-10-24 16:37:32,739 - root - INFO - Unknown code (25040) for subject (23829)\n",
      "2016-10-24 16:37:32,744 - root - INFO - Unknown code (28521) for subject (23829)\n",
      "2016-10-24 16:37:32,745 - root - INFO - Unknown code (25070) for subject (23829)\n",
      "2016-10-24 16:37:32,755 - root - INFO - Unknown code (E8497) for subject (23829)\n",
      "2016-10-24 16:37:32,779 - root - INFO - Unknown code (43330) for subject (305)\n",
      "2016-10-24 16:37:32,785 - root - INFO - Unknown code (25000) for subject (305)\n",
      "2016-10-24 16:37:32,837 - root - INFO - Unknown code (73028) for subject (2040)\n",
      "2016-10-24 16:37:32,922 - root - INFO - Unknown code (2809) for subject (13086)\n",
      "2016-10-24 16:37:32,932 - root - INFO - Unknown code (55090) for subject (13086)\n",
      "2016-10-24 16:37:32,982 - root - INFO - Unknown code (27401) for subject (1339)\n",
      "2016-10-24 16:37:33,111 - root - INFO - Unknown code (25080) for subject (11043)\n",
      "2016-10-24 16:37:33,147 - root - INFO - Unknown code (25083) for subject (8734)\n",
      "2016-10-24 16:37:33,176 - root - INFO - Unknown code (25073) for subject (8734)\n",
      "2016-10-24 16:37:33,193 - root - INFO - Unknown code (73027) for subject (8734)\n",
      "2016-10-24 16:37:33,193 - root - INFO - Unknown code (2883) for subject (8734)\n",
      "2016-10-24 16:37:33,278 - root - INFO - Unknown code (49320) for subject (24577)\n",
      "2016-10-24 16:37:33,309 - root - INFO - Unknown code (49322) for subject (16200)\n",
      "2016-10-24 16:37:33,326 - root - INFO - Unknown code (2875) for subject (16200)\n",
      "2016-10-24 16:37:33,334 - root - INFO - Unknown code (7455) for subject (16200)\n",
      "2016-10-24 16:37:33,365 - root - INFO - Unknown code (2874) for subject (16894)\n",
      "2016-10-24 16:37:33,396 - root - INFO - Unknown code (49390) for subject (16894)\n",
      "2016-10-24 16:37:33,455 - root - INFO - Unknown code (V4986) for subject (6697)\n",
      "2016-10-24 16:37:33,567 - root - INFO - Unknown code (85201) for subject (16666)\n",
      "2016-10-24 16:37:33,568 - root - INFO - Unknown code (85221) for subject (16666)\n",
      "2016-10-24 16:37:33,568 - root - INFO - Unknown code (85301) for subject (16666)\n",
      "2016-10-24 16:37:33,597 - root - INFO - Unknown code (57421) for subject (339)\n",
      "2016-10-24 16:37:33,696 - root - INFO - Unknown code (07032) for subject (433)\n",
      "2016-10-24 16:37:33,903 - root - INFO - Unknown code (53550) for subject (9710)\n",
      "2016-10-24 16:37:33,914 - root - INFO - Unknown code (25060) for subject (9710)\n",
      "2016-10-24 16:37:34,025 - root - INFO - Unknown code (2867) for subject (634)\n",
      "2016-10-24 16:37:34,062 - root - INFO - Unknown code (28529) for subject (952)\n",
      "2016-10-24 16:37:34,119 - root - INFO - Unknown code (30470) for subject (7391)\n",
      "2016-10-24 16:37:34,258 - root - INFO - Unknown code (20280) for subject (5598)\n",
      "2016-10-24 16:37:34,278 - root - INFO - Unknown code (7570) for subject (5598)\n",
      "2016-10-24 16:37:34,297 - root - INFO - Unknown code (53100) for subject (634)\n",
      "2016-10-24 16:37:34,307 - root - INFO - Unknown code (2869) for subject (634)\n",
      "2016-10-24 16:37:34,485 - root - INFO - Unknown code (41081) for subject (22835)\n",
      "2016-10-24 16:37:34,504 - root - INFO - Unknown code (29590) for subject (9782)\n",
      "2016-10-24 16:37:34,519 - root - INFO - Unknown code (24200) for subject (7809)\n",
      "2016-10-24 16:37:34,723 - root - INFO - Unknown code (25041) for subject (5909)\n",
      "2016-10-24 16:37:34,922 - root - INFO - Unknown code (25011) for subject (15485)\n",
      "2016-10-24 16:37:34,933 - root - INFO - Unknown code (28249) for subject (15485)\n",
      "2016-10-24 16:37:34,942 - root - INFO - Unknown code (25071) for subject (15485)\n",
      "2016-10-24 16:37:34,950 - root - INFO - Unknown code (34690) for subject (15485)\n",
      "2016-10-24 16:37:34,958 - root - INFO - Unknown code (25061) for subject (15485)\n",
      "2016-10-24 16:37:35,012 - root - INFO - Unknown code (40301) for subject (13033)\n",
      "2016-10-24 16:37:35,076 - root - INFO - Unknown code (2830) for subject (5239)\n",
      "2016-10-24 16:37:35,091 - root - INFO - Unknown code (25013) for subject (7809)\n",
      "2016-10-24 16:37:35,100 - root - INFO - Unknown code (25063) for subject (7809)\n",
      "2016-10-24 16:37:35,104 - root - INFO - Unknown code (25053) for subject (7809)\n",
      "2016-10-24 16:37:35,124 - root - INFO - Unknown code (71680) for subject (7809)\n",
      "2016-10-24 16:37:35,174 - root - INFO - Unknown code (40390) for subject (5244)\n",
      "2016-10-24 16:37:35,201 - root - INFO - Unknown code (2880) for subject (5525)\n",
      "2016-10-24 16:37:35,251 - root - INFO - Unknown code (30300) for subject (2989)\n",
      "2016-10-24 16:37:35,251 - root - INFO - Unknown code (78907) for subject (2989)\n",
      "2016-10-24 16:37:35,311 - root - INFO - Unknown code (73007) for subject (8452)\n",
      "2016-10-24 16:37:35,334 - root - INFO - Unknown code (25081) for subject (8452)\n",
      "2016-10-24 16:37:35,335 - root - INFO - Unknown code (25051) for subject (8452)\n",
      "2016-10-24 16:37:35,359 - root - INFO - Unknown code (53570) for subject (8452)\n",
      "2016-10-24 16:37:35,413 - root - INFO - Unknown code (30500) for subject (5727)\n",
      "2016-10-24 16:37:35,414 - root - INFO - Unknown code (30560) for subject (5727)\n",
      "2016-10-24 16:37:35,430 - root - INFO - Unknown code (28959) for subject (7275)\n",
      "2016-10-24 16:37:35,447 - root - INFO - Unknown code (34500) for subject (7275)\n",
      "2016-10-24 16:37:35,447 - root - INFO - Unknown code (57420) for subject (7275)\n",
      "2016-10-24 16:37:35,593 - root - INFO - Unknown code (75982) for subject (3417)\n",
      "2016-10-24 16:37:35,770 - root - INFO - Unknown code (20411) for subject (773)\n",
      "2016-10-24 16:37:35,782 - root - INFO - Unknown code (30391) for subject (773)\n",
      "2016-10-24 16:37:36,065 - root - INFO - Unknown code (41091) for subject (3860)\n",
      "2016-10-24 16:37:36,066 - root - INFO - Unknown code (49321) for subject (3860)\n",
      "2016-10-24 16:37:36,141 - root - INFO - Unknown code (07030) for subject (18928)\n",
      "2016-10-24 16:37:36,292 - root - INFO - Unknown code (2848) for subject (5453)\n",
      "2016-10-24 16:37:36,422 - root - INFO - Unknown code (71590) for subject (21522)\n",
      "2016-10-24 16:37:36,434 - root - INFO - Unknown code (85222) for subject (849)\n",
      "2016-10-24 16:37:36,470 - root - INFO - Unknown code (73018) for subject (3386)\n",
      "2016-10-24 16:37:36,582 - root - INFO - Unknown code (25020) for subject (5244)\n",
      "2016-10-24 16:37:36,721 - root - INFO - Unknown code (25002) for subject (12984)\n",
      "2016-10-24 16:37:36,726 - root - INFO - Unknown code (29530) for subject (12984)\n",
      "2016-10-24 16:37:36,850 - root - INFO - Unknown code (30550) for subject (5060)\n",
      "2016-10-24 16:37:36,923 - root - INFO - Unknown code (34590) for subject (3575)\n",
      "2016-10-24 16:37:36,924 - root - INFO - Unknown code (30563) for subject (3575)\n",
      "2016-10-24 16:37:36,924 - root - INFO - Unknown code (30551) for subject (3575)\n",
      "2016-10-24 16:37:36,956 - root - INFO - Unknown code (28749) for subject (3575)\n",
      "2016-10-24 16:37:37,029 - root - INFO - Unknown code (20510) for subject (10624)\n",
      "2016-10-24 16:37:37,120 - root - INFO - Unknown code (71690) for subject (7809)\n",
      "2016-10-24 16:37:37,184 - root - INFO - Unknown code (2866) for subject (3734)\n",
      "2016-10-24 16:37:37,192 - root - INFO - Unknown code (25030) for subject (3734)\n",
      "2016-10-24 16:37:37,240 - root - INFO - Unknown code (25043) for subject (3952)\n",
      "2016-10-24 16:37:37,361 - root - INFO - Unknown code (2863) for subject (2558)\n",
      "2016-10-24 16:37:37,646 - root - INFO - Unknown code (E915) for subject (4644)\n",
      "2016-10-24 16:37:37,688 - root - INFO - Unknown code (25001) for subject (2185)\n",
      "2016-10-24 16:37:37,864 - root - INFO - Unknown code (2873) for subject (19293)\n",
      "2016-10-24 16:37:38,152 - root - INFO - Unknown code (71903) for subject (8492)\n",
      "2016-10-24 16:37:38,227 - root - INFO - Unknown code (73025) for subject (6543)\n",
      "2016-10-24 16:37:38,275 - root - INFO - Unknown code (43411) for subject (26159)\n",
      "2016-10-24 16:37:38,371 - root - INFO - Unknown code (25082) for subject (6151)\n",
      "2016-10-24 16:37:38,601 - root - INFO - Unknown code (30301) for subject (3225)\n",
      "2016-10-24 16:37:38,826 - root - INFO - Unknown code (71103) for subject (62186)\n",
      "2016-10-24 16:37:39,054 - root - INFO - Unknown code (E8191) for subject (24863)\n",
      "2016-10-24 16:37:39,084 - root - INFO - Unknown code (41011) for subject (9714)\n",
      "2016-10-24 16:37:39,273 - root - INFO - Unknown code (7580) for subject (3100)\n",
      "2016-10-24 16:37:39,277 - root - INFO - Unknown code (78901) for subject (3100)\n",
      "2016-10-24 16:37:39,329 - root - INFO - Unknown code (74721) for subject (65741)\n",
      "2016-10-24 16:37:39,341 - root - INFO - Unknown code (74769) for subject (65741)\n",
      "2016-10-24 16:37:39,735 - root - INFO - Unknown code (57410) for subject (14757)\n",
      "2016-10-24 16:37:39,800 - root - INFO - Unknown code (30401) for subject (22963)\n",
      "2016-10-24 16:37:39,811 - root - INFO - Unknown code (2841) for subject (22963)\n",
      "2016-10-24 16:37:39,931 - root - INFO - Unknown code (2808) for subject (13664)\n",
      "2016-10-24 16:37:40,052 - root - INFO - Unknown code (30501) for subject (22624)\n",
      "2016-10-24 16:37:40,315 - root - INFO - Unknown code (71535) for subject (23707)\n",
      "2016-10-24 16:37:40,576 - root - INFO - Unknown code (28800) for subject (10721)\n",
      "2016-10-24 16:37:40,650 - root - INFO - Unknown code (29572) for subject (2589)\n",
      "2016-10-24 16:37:40,659 - root - INFO - Unknown code (9160) for subject (2589)\n",
      "2016-10-24 16:37:40,676 - root - INFO - Unknown code (2819) for subject (2589)\n",
      "2016-10-24 16:37:40,677 - root - INFO - Unknown code (41041) for subject (20389)\n",
      "2016-10-24 16:37:40,697 - root - INFO - Unknown code (53230) for subject (20389)\n",
      "2016-10-24 16:37:40,810 - root - INFO - Unknown code (53551) for subject (30414)\n",
      "2016-10-24 16:37:40,874 - root - INFO - Unknown code (25050) for subject (30414)\n",
      "2016-10-24 16:37:41,107 - root - INFO - Unknown code (20500) for subject (4816)\n",
      "2016-10-24 16:37:41,163 - root - INFO - Unknown code (75989) for subject (9256)\n",
      "2016-10-24 16:37:41,184 - root - INFO - Unknown code (80114) for subject (1423)\n",
      "2016-10-24 16:37:41,185 - root - INFO - Unknown code (E8348) for subject (1423)\n",
      "2016-10-24 16:37:41,329 - root - INFO - Unknown code (30390) for subject (24594)\n",
      "2016-10-24 16:37:41,360 - root - INFO - Unknown code (25010) for subject (5397)\n",
      "2016-10-24 16:37:41,387 - root - INFO - Unknown code (53390) for subject (5397)\n",
      "2016-10-24 16:37:41,535 - root - INFO - Unknown code (E912) for subject (25658)\n",
      "2016-10-24 16:37:41,694 - root - INFO - Unknown code (75162) for subject (5691)\n",
      "2016-10-24 16:37:41,928 - root - INFO - Unknown code (30421) for subject (1042)\n",
      "2016-10-24 16:37:42,021 - root - INFO - Unknown code (41001) for subject (29043)\n",
      "2016-10-24 16:37:42,115 - root - INFO - Unknown code (53541) for subject (25329)\n",
      "2016-10-24 16:37:42,116 - root - INFO - Unknown code (40493) for subject (25329)\n",
      "2016-10-24 16:37:42,137 - root - INFO - Unknown code (78909) for subject (25329)\n",
      "2016-10-24 16:37:42,189 - root - INFO - Unknown code (71844) for subject (12191)\n",
      "2016-10-24 16:37:42,987 - root - INFO - Unknown code (28850) for subject (6428)\n",
      "2016-10-24 16:37:43,062 - root - INFO - Unknown code (40403) for subject (6440)\n",
      "2016-10-24 16:37:43,089 - root - INFO - Unknown code (7464) for subject (29117)\n",
      "2016-10-24 16:37:43,276 - root - INFO - Unknown code (51851) for subject (2747)\n",
      "2016-10-24 16:37:43,295 - root - INFO - Unknown code (27669) for subject (2747)\n",
      "2016-10-24 16:37:43,820 - root - INFO - Unknown code (20190) for subject (23000)\n",
      "2016-10-24 16:37:43,914 - root - INFO - Unknown code (20300) for subject (2425)\n",
      "2016-10-24 16:37:44,211 - root - INFO - Unknown code (25042) for subject (67172)\n",
      "2016-10-24 16:37:44,341 - root - INFO - Unknown code (30503) for subject (7138)\n",
      "2016-10-24 16:37:44,429 - root - INFO - Unknown code (28419) for subject (94525)\n",
      "2016-10-24 16:37:44,442 - root - INFO - Unknown code (97081) for subject (94525)\n",
      "2016-10-24 16:37:44,599 - root - INFO - Unknown code (20191) for subject (23739)\n",
      "2016-10-24 16:37:44,608 - root - INFO - Unknown code (28522) for subject (23739)\n",
      "2016-10-24 16:37:44,628 - root - INFO - Unknown code (25023) for subject (19213)\n",
      "2016-10-24 16:37:44,721 - root - INFO - Unknown code (57490) for subject (15784)\n",
      "2016-10-24 16:37:44,861 - root - INFO - Unknown code (30441) for subject (15472)\n",
      "2016-10-24 16:37:44,862 - root - INFO - Unknown code (30411) for subject (15472)\n",
      "2016-10-24 16:37:44,976 - root - INFO - Unknown code (E8499) for subject (9545)\n",
      "2016-10-24 16:37:45,038 - root - INFO - Unknown code (43310) for subject (12706)\n",
      "2016-10-24 16:37:45,523 - root - INFO - Unknown code (7517) for subject (5760)\n",
      "2016-10-24 16:37:45,616 - root - INFO - Unknown code (34290) for subject (26203)\n",
      "2016-10-24 16:37:45,755 - root - INFO - Unknown code (25092) for subject (3123)\n",
      "2016-10-24 16:37:45,876 - root - INFO - Unknown code (41051) for subject (7671)\n",
      "2016-10-24 16:37:46,015 - root - INFO - Unknown code (34510) for subject (3543)\n",
      "2016-10-24 16:37:46,023 - root - INFO - Unknown code (E8490) for subject (3543)\n",
      "2016-10-24 16:37:46,164 - root - INFO - Unknown code (71906) for subject (4535)\n",
      "2016-10-24 16:37:46,232 - root - INFO - Unknown code (25062) for subject (16112)\n",
      "2016-10-24 16:37:46,259 - root - INFO - Unknown code (71536) for subject (16112)\n",
      "2016-10-24 16:37:46,416 - root - INFO - Unknown code (2899) for subject (4268)\n",
      "2016-10-24 16:37:46,436 - root - INFO - Unknown code (71847) for subject (4268)\n",
      "2016-10-24 16:37:46,707 - root - INFO - Unknown code (75981) for subject (15919)\n",
      "2016-10-24 16:37:46,868 - root - INFO - Unknown code (25031) for subject (3929)\n",
      "2016-10-24 16:37:47,232 - root - INFO - Unknown code (30590) for subject (23371)\n",
      "2016-10-24 16:37:47,479 - root - INFO - Unknown code (E927) for subject (15872)\n",
      "2016-10-24 16:37:47,694 - root - INFO - Unknown code (30393) for subject (11342)\n",
      "2016-10-24 16:37:47,776 - root - INFO - Unknown code (99749) for subject (32447)\n",
      "2016-10-24 16:37:47,796 - root - INFO - Unknown code (45386) for subject (32447)\n",
      "2016-10-24 16:37:47,832 - root - INFO - Unknown code (28860) for subject (32447)\n",
      "2016-10-24 16:37:47,841 - root - INFO - Unknown code (2810) for subject (32447)\n",
      "2016-10-24 16:37:48,387 - root - INFO - Unknown code (71596) for subject (9339)\n",
      "2016-10-24 16:37:48,658 - root - INFO - Unknown code (34201) for subject (32447)\n",
      "2016-10-24 16:37:49,154 - root - INFO - Unknown code (73008) for subject (7363)\n",
      "2016-10-24 16:37:49,252 - root - INFO - Unknown code (71941) for subject (6349)\n",
      "2016-10-24 16:37:49,345 - root - INFO - Unknown code (81601) for subject (4966)\n",
      "2016-10-24 16:37:49,350 - root - INFO - Unknown code (E8150) for subject (4966)\n",
      "2016-10-24 16:37:49,361 - root - INFO - Unknown code (9190) for subject (4966)\n",
      "2016-10-24 16:37:49,373 - root - INFO - Unknown code (34600) for subject (4966)\n",
      "2016-10-24 16:37:49,381 - root - INFO - Unknown code (V8812) for subject (4966)\n",
      "2016-10-24 16:37:49,392 - root - INFO - Unknown code (4162) for subject (2378)\n",
      "2016-10-24 16:37:49,767 - root - INFO - Unknown code (25003) for subject (8948)\n",
      "2016-10-24 16:37:51,137 - root - INFO - Unknown code (57460) for subject (745)\n",
      "2016-10-24 16:37:51,265 - root - INFO - Unknown code (25022) for subject (22384)\n",
      "2016-10-24 16:37:51,595 - root - INFO - Unknown code (E8160) for subject (13597)\n",
      "2016-10-24 16:37:51,615 - root - INFO - Unknown code (78906) for subject (20643)\n",
      "2016-10-24 16:37:51,883 - root - INFO - Unknown code (2858) for subject (30782)\n",
      "2016-10-24 16:37:51,906 - root - INFO - Unknown code (29570) for subject (3935)\n",
      "2016-10-24 16:37:52,542 - root - INFO - Unknown code (57400) for subject (19310)\n",
      "2016-10-24 16:37:52,597 - root - INFO - Unknown code (71849) for subject (19310)\n",
      "2016-10-24 16:37:52,669 - root - INFO - Unknown code (71695) for subject (2338)\n",
      "2016-10-24 16:37:52,715 - root - INFO - Unknown code (56962) for subject (26277)\n",
      "2016-10-24 16:37:52,904 - root - INFO - Unknown code (29562) for subject (5901)\n",
      "2016-10-24 16:37:53,010 - root - INFO - Unknown code (25012) for subject (7105)\n",
      "2016-10-24 16:37:53,599 - root - INFO - Unknown code (71101) for subject (16129)\n",
      "2016-10-24 16:37:53,608 - root - INFO - Unknown code (20410) for subject (16129)\n",
      "2016-10-24 16:37:53,865 - root - INFO - Unknown code (43491) for subject (7105)\n",
      "2016-10-24 16:37:53,995 - root - INFO - Unknown code (25033) for subject (27574)\n",
      "2016-10-24 16:37:54,059 - root - INFO - Unknown code (30540) for subject (23090)\n",
      "2016-10-24 16:37:54,072 - root - INFO - Unknown code (29650) for subject (1339)\n",
      "2016-10-24 16:37:54,313 - root - INFO - Unknown code (20301) for subject (9736)\n",
      "2016-10-24 16:37:54,655 - root - INFO - Unknown code (2829) for subject (5727)\n",
      "2016-10-24 16:37:54,690 - root - INFO - Unknown code (64893) for subject (11934)\n",
      "2016-10-24 16:37:54,694 - root - INFO - Unknown code (53400) for subject (11934)\n",
      "2016-10-24 16:37:54,695 - root - INFO - Unknown code (64313) for subject (11934)\n",
      "2016-10-24 16:37:54,707 - root - INFO - Unknown code (65423) for subject (11934)\n",
      "2016-10-24 16:37:54,724 - root - INFO - Unknown code (63572) for subject (11934)\n",
      "2016-10-24 16:37:54,918 - root - INFO - Unknown code (41031) for subject (24307)\n",
      "2016-10-24 16:37:55,296 - root - INFO - Unknown code (71233) for subject (16194)\n",
      "2016-10-24 16:37:55,559 - root - INFO - Unknown code (86503) for subject (30719)\n",
      "2016-10-24 16:37:55,585 - root - INFO - Unknown code (29653) for subject (29502)\n",
      "2016-10-24 16:37:55,593 - root - INFO - Unknown code (E8495) for subject (29502)\n",
      "2016-10-24 16:37:55,605 - root - INFO - Unknown code (82301) for subject (58308)\n",
      "2016-10-24 16:37:55,605 - root - INFO - Unknown code (E8147) for subject (58308)\n",
      "2016-10-24 16:37:55,813 - root - INFO - Unknown code (28981) for subject (9266)\n",
      "2016-10-24 16:37:55,875 - root - INFO - Unknown code (20530) for subject (1620)\n",
      "2016-10-24 16:37:56,100 - root - INFO - Unknown code (71697) for subject (64171)\n",
      "2016-10-24 16:37:56,227 - root - INFO - Unknown code (86414) for subject (15156)\n",
      "2016-10-24 16:37:56,256 - root - INFO - Unknown code (41012) for subject (9714)\n",
      "2016-10-24 16:37:56,282 - root - INFO - Unknown code (2862) for subject (20321)\n",
      "2016-10-24 16:37:56,297 - root - INFO - Unknown code (29620) for subject (20321)\n",
      "2016-10-24 16:37:56,359 - root - INFO - Unknown code (28804) for subject (10721)\n",
      "2016-10-24 16:37:56,450 - root - INFO - Unknown code (2865) for subject (1931)\n",
      "2016-10-24 16:37:56,961 - root - INFO - Unknown code (2894) for subject (5453)\n",
      "2016-10-24 16:37:57,153 - root - INFO - Unknown code (24290) for subject (3738)\n",
      "2016-10-24 16:37:57,162 - root - INFO - Unknown code (29600) for subject (3738)\n",
      "2016-10-24 16:37:57,434 - root - INFO - Unknown code (41032) for subject (9545)\n",
      "2016-10-24 16:37:57,484 - root - INFO - Unknown code (71901) for subject (9545)\n",
      "2016-10-24 16:37:57,609 - root - INFO - Unknown code (V4987) for subject (62733)\n",
      "2016-10-24 16:37:57,933 - root - INFO - Unknown code (75683) for subject (26263)\n",
      "2016-10-24 16:37:58,328 - root - INFO - Unknown code (53540) for subject (2067)\n",
      "2016-10-24 16:37:58,370 - root - INFO - Unknown code (85220) for subject (14567)\n",
      "2016-10-24 16:37:58,483 - root - INFO - Unknown code (30561) for subject (5727)\n",
      "2016-10-24 16:37:58,680 - root - INFO - Unknown code (49392) for subject (10277)\n",
      "2016-10-24 16:37:58,681 - root - INFO - Unknown code (80702) for subject (10277)\n",
      "2016-10-24 16:37:58,743 - root - INFO - Unknown code (73017) for subject (20577)\n",
      "2016-10-24 16:37:58,884 - root - INFO - Unknown code (30593) for subject (22624)\n",
      "2016-10-24 16:37:59,415 - root - INFO - Unknown code (71105) for subject (745)\n",
      "2016-10-24 16:37:59,569 - root - INFO - Unknown code (9100) for subject (4966)\n",
      "2016-10-24 16:37:59,684 - root - INFO - Unknown code (53300) for subject (23039)\n",
      "2016-10-24 16:37:59,718 - root - INFO - Unknown code (78900) for subject (7726)\n",
      "2016-10-24 16:37:59,895 - root - INFO - Unknown code (43331) for subject (32527)\n",
      "2016-10-24 16:38:00,111 - root - INFO - Unknown code (25052) for subject (3543)\n",
      "2016-10-24 16:38:00,872 - root - INFO - Unknown code (57450) for subject (413)\n",
      "2016-10-24 16:38:01,315 - root - INFO - Unknown code (86804) for subject (23113)\n",
      "2016-10-24 16:38:01,316 - root - INFO - Unknown code (E8282) for subject (23113)\n",
      "2016-10-24 16:38:01,316 - root - INFO - Unknown code (30552) for subject (5060)\n",
      "2016-10-24 16:38:01,498 - root - INFO - Unknown code (28982) for subject (10635)\n",
      "2016-10-24 16:38:01,640 - root - INFO - Unknown code (43321) for subject (921)\n",
      "2016-10-24 16:38:01,656 - root - INFO - Unknown code (75470) for subject (921)\n",
      "2016-10-24 16:38:01,726 - root - INFO - Unknown code (53240) for subject (10814)\n",
      "2016-10-24 16:38:02,130 - root - INFO - Unknown code (53501) for subject (19080)\n",
      "2016-10-24 16:38:02,323 - root - INFO - Unknown code (56489) for subject (65481)\n",
      "2016-10-24 16:38:02,360 - root - INFO - Unknown code (E8120) for subject (10973)\n",
      "2016-10-24 16:38:02,388 - root - INFO - Unknown code (73004) for subject (3866)\n",
      "2016-10-24 16:38:04,478 - root - INFO - Unknown code (2839) for subject (22098)\n",
      "2016-10-24 16:38:05,086 - root - INFO - Unknown code (45372) for subject (3482)\n",
      "2016-10-24 16:38:05,138 - root - INFO - Unknown code (2357) for subject (42820)\n",
      "2016-10-24 16:38:05,725 - root - INFO - Unknown code (53531) for subject (6953)\n",
      "2016-10-24 16:38:06,245 - root - INFO - Unknown code (2849) for subject (10972)\n",
      "2016-10-24 16:38:06,364 - root - INFO - Unknown code (53220) for subject (4947)\n",
      "2016-10-24 16:38:06,428 - root - INFO - Unknown code (71589) for subject (2413)\n",
      "2016-10-24 16:38:07,030 - root - INFO - Unknown code (E8199) for subject (27077)\n",
      "2016-10-24 16:38:07,083 - root - INFO - Unknown code (53560) for subject (9402)\n",
      "2016-10-24 16:38:07,589 - root - INFO - Unknown code (75312) for subject (16655)\n",
      "2016-10-24 16:38:07,871 - root - INFO - Unknown code (01194) for subject (15046)\n",
      "2016-10-24 16:38:07,904 - root - INFO - Unknown code (73013) for subject (15046)\n",
      "2016-10-24 16:38:07,962 - root - INFO - Unknown code (2888) for subject (23826)\n",
      "2016-10-24 16:38:08,040 - root - INFO - Unknown code (82382) for subject (1569)\n",
      "2016-10-24 16:38:08,250 - root - INFO - Unknown code (85226) for subject (13217)\n",
      "2016-10-24 16:38:08,423 - root - INFO - Unknown code (81010) for subject (1936)\n",
      "2016-10-24 16:38:08,423 - root - INFO - Unknown code (E887) for subject (1936)\n",
      "2016-10-24 16:38:08,740 - root - INFO - Unknown code (53190) for subject (9356)\n",
      "2016-10-24 16:38:09,702 - root - INFO - Unknown code (53140) for subject (26673)\n",
      "2016-10-24 16:38:09,730 - root - INFO - Unknown code (80502) for subject (30027)\n",
      "2016-10-24 16:38:09,912 - root - INFO - Unknown code (28803) for subject (6116)\n",
      "2016-10-24 16:38:10,393 - root - INFO - Unknown code (20501) for subject (5774)\n",
      "2016-10-24 16:38:10,913 - root - INFO - Unknown code (28319) for subject (29043)\n",
      "2016-10-24 16:38:10,914 - root - INFO - Unknown code (28984) for subject (29043)\n",
      "2016-10-24 16:38:11,010 - root - INFO - Unknown code (40311) for subject (10721)\n",
      "2016-10-24 16:38:11,119 - root - INFO - Unknown code (78905) for subject (7809)\n",
      "2016-10-24 16:38:11,766 - root - INFO - Unknown code (41042) for subject (1029)\n",
      "2016-10-24 16:38:11,894 - root - INFO - Unknown code (53170) for subject (17617)\n",
      "2016-10-24 16:38:12,370 - root - INFO - Unknown code (75310) for subject (20643)\n",
      "2016-10-24 16:38:13,143 - root - INFO - Unknown code (30431) for subject (3917)\n",
      "2016-10-24 16:38:13,155 - root - INFO - Unknown code (E989) for subject (3917)\n",
      "2016-10-24 16:38:13,171 - root - INFO - Unknown code (80701) for subject (7463)\n",
      "2016-10-24 16:38:13,182 - root - INFO - Unknown code (83104) for subject (7463)\n",
      "2016-10-24 16:38:13,349 - root - INFO - Unknown code (73016) for subject (21431)\n",
      "2016-10-24 16:38:13,613 - root - INFO - Unknown code (80504) for subject (18825)\n",
      "2016-10-24 16:38:13,623 - root - INFO - Unknown code (80506) for subject (18825)\n",
      "2016-10-24 16:38:13,890 - root - INFO - Unknown code (2860) for subject (8799)\n",
      "2016-10-24 16:38:14,169 - root - INFO - Unknown code (28983) for subject (4655)\n",
      "2016-10-24 16:38:14,502 - root - INFO - Unknown code (24280) for subject (5727)\n",
      "2016-10-24 16:38:14,526 - root - INFO - Unknown code (71949) for subject (5727)\n",
      "2016-10-24 16:38:14,721 - root - INFO - Unknown code (34501) for subject (24622)\n",
      "2016-10-24 16:38:15,382 - root - INFO - Unknown code (71946) for subject (5909)\n",
      "2016-10-24 16:38:15,723 - root - INFO - Unknown code (53290) for subject (14316)\n",
      "2016-10-24 16:38:15,764 - root - INFO - Unknown code (66634) for subject (8799)\n",
      "2016-10-24 16:38:15,783 - root - INFO - Unknown code (80425) for subject (20432)\n",
      "2016-10-24 16:38:15,799 - root - INFO - Unknown code (86405) for subject (20432)\n",
      "2016-10-24 16:38:15,800 - root - INFO - Unknown code (86801) for subject (20432)\n",
      "2016-10-24 16:38:15,816 - root - INFO - Unknown code (82332) for subject (20432)\n",
      "2016-10-24 16:38:15,821 - root - INFO - Unknown code (81100) for subject (20432)\n",
      "2016-10-24 16:38:16,098 - root - INFO - Unknown code (80709) for subject (16275)\n",
      "2016-10-24 16:38:16,111 - root - INFO - Unknown code (29532) for subject (9782)\n",
      "2016-10-24 16:38:16,304 - root - INFO - Unknown code (71943) for subject (3482)\n",
      "2016-10-24 16:38:16,428 - root - INFO - Unknown code (49302) for subject (10635)\n",
      "2016-10-24 16:38:16,688 - root - INFO - Unknown code (78451) for subject (5544)\n",
      "2016-10-24 16:38:16,721 - root - INFO - Unknown code (40310) for subject (5544)\n",
      "2016-10-24 16:38:16,951 - root - INFO - Unknown code (20400) for subject (23526)\n",
      "2016-10-24 16:38:17,517 - root - INFO - Unknown code (78903) for subject (23707)\n",
      "2016-10-24 16:38:17,617 - root - INFO - Unknown code (74689) for subject (17586)\n",
      "2016-10-24 16:38:19,345 - root - INFO - Unknown code (7503) for subject (15046)\n",
      "2016-10-24 16:38:20,167 - root - INFO - Unknown code (30471) for subject (5727)\n",
      "2016-10-24 16:38:20,653 - root - INFO - Unknown code (2824) for subject (18168)\n",
      "2016-10-24 16:38:21,113 - root - INFO - Unknown code (78459) for subject (9253)\n",
      "2016-10-24 16:38:21,435 - root - INFO - Unknown code (57491) for subject (10375)\n",
      "2016-10-24 16:38:22,221 - root - INFO - Unknown code (20288) for subject (11395)\n",
      "2016-10-24 16:38:22,374 - root - INFO - Unknown code (20000) for subject (5598)\n",
      "2016-10-24 16:38:23,216 - root - INFO - Unknown code (43311) for subject (16812)\n",
      "2016-10-24 16:38:23,217 - root - INFO - Unknown code (34292) for subject (16812)\n",
      "2016-10-24 16:38:23,329 - root - INFO - Unknown code (30420) for subject (5727)\n",
      "2016-10-24 16:38:23,522 - root - INFO - Unknown code (41061) for subject (24007)\n",
      "2016-10-24 16:38:23,573 - root - INFO - Unknown code (81000) for subject (26094)\n",
      "2016-10-24 16:38:23,743 - root - INFO - Unknown code (34291) for subject (9016)\n",
      "2016-10-24 16:38:23,864 - root - INFO - Unknown code (45381) for subject (65703)\n",
      "2016-10-24 16:38:24,507 - root - INFO - Unknown code (53561) for subject (27766)\n",
      "2016-10-24 16:38:25,725 - root - INFO - Unknown code (74685) for subject (31398)\n",
      "2016-10-24 16:38:26,553 - root - INFO - Unknown code (53370) for subject (2093)\n",
      "2016-10-24 16:38:27,296 - root - INFO - Unknown code (7462) for subject (6049)\n",
      "2016-10-24 16:38:27,617 - root - INFO - Unknown code (28989) for subject (10634)\n",
      "2016-10-24 16:38:27,934 - root - INFO - Unknown code (85225) for subject (30694)\n",
      "2016-10-24 16:38:27,943 - root - INFO - Unknown code (85202) for subject (30694)\n",
      "2016-10-24 16:38:28,085 - root - INFO - Unknown code (41092) for subject (23150)\n",
      "2016-10-24 16:38:28,554 - root - INFO - Unknown code (71699) for subject (7809)\n",
      "2016-10-24 16:38:29,714 - root - INFO - Unknown code (41021) for subject (40850)\n",
      "2016-10-24 16:38:29,732 - root - INFO - Unknown code (75313) for subject (40850)\n",
      "2016-10-24 16:38:29,756 - root - INFO - Unknown code (28951) for subject (40850)\n",
      "2016-10-24 16:38:29,877 - root - INFO - Unknown code (20502) for subject (78215)\n",
      "2016-10-24 16:38:30,315 - root - INFO - Unknown code (30553) for subject (4588)\n",
      "2016-10-24 16:38:30,499 - root - INFO - Unknown code (30473) for subject (4699)\n",
      "2016-10-24 16:38:30,798 - root - INFO - Unknown code (74781) for subject (8773)\n",
      "2016-10-24 16:38:31,116 - root - INFO - Unknown code (56032) for subject (9782)\n",
      "2016-10-24 16:38:31,734 - root - INFO - Unknown code (7596) for subject (19371)\n",
      "2016-10-24 16:38:33,028 - root - INFO - Unknown code (27788) for subject (11559)\n",
      "2016-10-24 16:38:33,236 - root - INFO - Unknown code (74710) for subject (10188)\n",
      "2016-10-24 16:38:33,485 - root - INFO - Unknown code (80703) for subject (5155)\n",
      "2016-10-24 16:38:33,525 - root - INFO - Unknown code (85142) for subject (17346)\n",
      "2016-10-24 16:38:33,534 - root - INFO - Unknown code (80422) for subject (17346)\n",
      "2016-10-24 16:38:33,534 - root - INFO - Unknown code (80122) for subject (17346)\n",
      "2016-10-24 16:38:33,539 - root - INFO - Unknown code (E8232) for subject (17346)\n",
      "2016-10-24 16:38:34,534 - root - INFO - Unknown code (34680) for subject (402)\n",
      "2016-10-24 16:38:34,590 - root - INFO - Unknown code (86500) for subject (13338)\n",
      "2016-10-24 16:38:34,622 - root - INFO - Unknown code (80700) for subject (13338)\n",
      "2016-10-24 16:38:35,490 - root - INFO - Unknown code (73097) for subject (23829)\n",
      "2016-10-24 16:38:36,812 - root - INFO - Unknown code (34591) for subject (639)\n",
      "2016-10-24 16:38:37,074 - root - INFO - Unknown code (53511) for subject (19213)\n",
      "2016-10-24 16:38:37,533 - root - INFO - Unknown code (85200) for subject (9753)\n",
      "2016-10-24 16:38:38,231 - root - INFO - Unknown code (71598) for subject (19375)\n",
      "2016-10-24 16:38:39,018 - root - INFO - Unknown code (30402) for subject (5060)\n",
      "2016-10-24 16:38:39,158 - root - INFO - Unknown code (86803) for subject (53821)\n",
      "2016-10-24 16:38:39,159 - root - INFO - Unknown code (80705) for subject (53821)\n",
      "2016-10-24 16:38:39,227 - root - INFO - Unknown code (71595) for subject (53821)\n",
      "2016-10-24 16:38:39,545 - root - INFO - Unknown code (53340) for subject (7670)\n",
      "2016-10-24 16:38:39,611 - root - INFO - Unknown code (01215) for subject (5774)\n",
      "2016-10-24 16:38:41,546 - root - INFO - Unknown code (25021) for subject (23039)\n"
     ]
    }
   ],
   "source": [
    "note_codes = []\n",
    "note_meta = []\n",
    "unknown_codes = set()\n",
    "for k, note_dat in note_info.items():\n",
    "    subject_id, md5, row_id = k\n",
    "\n",
    "    meta = note_dat['meta'].copy()\n",
    "    meta['subject_id'] = subject_id\n",
    "    meta['md5'] = md5\n",
    "    meta['note_row_id'] = row_id\n",
    "    note_meta.append(meta)\n",
    "\n",
    "    diagnoses = note_dat['diagnoses']\n",
    "    if diagnoses is not None:\n",
    "        for diag in diagnoses:\n",
    "            new_code = {\n",
    "                'subject_id': subject_id,\n",
    "                'md5': md5,\n",
    "                'note_row_id': row_id,\n",
    "                'level': 'source',\n",
    "                'code': diag['icd9_code']\n",
    "            }\n",
    "            note_codes.append(new_code)\n",
    "\n",
    "            if diag['known_icd9_code']:\n",
    "                levels = sdu.get_icd9_levels(diag['clean_icd9_code'])\n",
    "                for ind, lev_code in enumerate(levels):\n",
    "                    new_code = {\n",
    "                        'subject_id': subject_id,\n",
    "                        'md5': md5,\n",
    "                        'note_row_id': row_id,\n",
    "                        'level': ind,\n",
    "                        'code': lev_code\n",
    "                    }\n",
    "                    note_codes.append(new_code)\n",
    "\n",
    "            else:\n",
    "                if diag['icd9_code'] not in unknown_codes:\n",
    "                    unknown_codes.add(diag['icd9_code'])\n",
    "                    logger.info('Unknown code ({}) for subject ({})'.format(diag['icd9_code'], subject_id))"
   ]
  },
  {
   "cell_type": "code",
   "execution_count": 51,
   "metadata": {
    "collapsed": false
   },
   "outputs": [
    {
     "data": {
      "text/plain": [
       "375"
      ]
     },
     "execution_count": 51,
     "metadata": {},
     "output_type": "execute_result"
    }
   ],
   "source": [
    "len(unknown_codes)"
   ]
  },
  {
   "cell_type": "code",
   "execution_count": 52,
   "metadata": {
    "collapsed": false
   },
   "outputs": [
    {
     "data": {
      "text/html": [
       "<div>\n",
       "<table border=\"1\" class=\"dataframe\">\n",
       "  <thead>\n",
       "    <tr style=\"text-align: right;\">\n",
       "      <th></th>\n",
       "      <th>code</th>\n",
       "      <th>level</th>\n",
       "      <th>md5</th>\n",
       "      <th>note_row_id</th>\n",
       "      <th>subject_id</th>\n",
       "    </tr>\n",
       "  </thead>\n",
       "  <tbody>\n",
       "    <tr>\n",
       "      <th>0</th>\n",
       "      <td>41071</td>\n",
       "      <td>source</td>\n",
       "      <td>be74552c73a0f9895c4f372763054d26</td>\n",
       "      <td>1414073.0</td>\n",
       "      <td>11590</td>\n",
       "    </tr>\n",
       "    <tr>\n",
       "      <th>1</th>\n",
       "      <td>39891</td>\n",
       "      <td>source</td>\n",
       "      <td>be74552c73a0f9895c4f372763054d26</td>\n",
       "      <td>1414073.0</td>\n",
       "      <td>11590</td>\n",
       "    </tr>\n",
       "    <tr>\n",
       "      <th>2</th>\n",
       "      <td>390-459</td>\n",
       "      <td>0</td>\n",
       "      <td>be74552c73a0f9895c4f372763054d26</td>\n",
       "      <td>1414073.0</td>\n",
       "      <td>11590</td>\n",
       "    </tr>\n",
       "    <tr>\n",
       "      <th>3</th>\n",
       "      <td>393-398</td>\n",
       "      <td>1</td>\n",
       "      <td>be74552c73a0f9895c4f372763054d26</td>\n",
       "      <td>1414073.0</td>\n",
       "      <td>11590</td>\n",
       "    </tr>\n",
       "    <tr>\n",
       "      <th>4</th>\n",
       "      <td>398</td>\n",
       "      <td>2</td>\n",
       "      <td>be74552c73a0f9895c4f372763054d26</td>\n",
       "      <td>1414073.0</td>\n",
       "      <td>11590</td>\n",
       "    </tr>\n",
       "  </tbody>\n",
       "</table>\n",
       "</div>"
      ],
      "text/plain": [
       "      code   level                               md5  note_row_id  subject_id\n",
       "0    41071  source  be74552c73a0f9895c4f372763054d26    1414073.0       11590\n",
       "1    39891  source  be74552c73a0f9895c4f372763054d26    1414073.0       11590\n",
       "2  390-459       0  be74552c73a0f9895c4f372763054d26    1414073.0       11590\n",
       "3  393-398       1  be74552c73a0f9895c4f372763054d26    1414073.0       11590\n",
       "4      398       2  be74552c73a0f9895c4f372763054d26    1414073.0       11590"
      ]
     },
     "execution_count": 52,
     "metadata": {},
     "output_type": "execute_result"
    }
   ],
   "source": [
    "note_codes_df = pd.DataFrame.from_records(note_codes)\n",
    "note_codes_df.head(5)"
   ]
  },
  {
   "cell_type": "code",
   "execution_count": 57,
   "metadata": {
    "collapsed": false
   },
   "outputs": [
    {
     "name": "stderr",
     "output_type": "stream",
     "text": [
      "2016-10-24 16:41:53,258 - root - INFO - ../../data/notes_icd9_codes_2016-10-24-16-35.csv\n"
     ]
    }
   ],
   "source": [
    "output_path = pl.Path(path_config['repo_data_dir']).joinpath('notes_icd9_codes_{}.csv'.format(time_str))\n",
    "logger.info(output_path)\n",
    "note_codes_df.to_csv(output_path.as_posix(), index=False)"
   ]
  },
  {
   "cell_type": "code",
   "execution_count": 54,
   "metadata": {
    "collapsed": false
   },
   "outputs": [
    {
     "data": {
      "text/html": [
       "<div>\n",
       "<table border=\"1\" class=\"dataframe\">\n",
       "  <thead>\n",
       "    <tr style=\"text-align: right;\">\n",
       "      <th></th>\n",
       "      <th>cgid</th>\n",
       "      <th>chartdate</th>\n",
       "      <th>charttime</th>\n",
       "      <th>hadm_id</th>\n",
       "      <th>md5</th>\n",
       "      <th>note_row_id</th>\n",
       "      <th>storetime</th>\n",
       "      <th>subject_id</th>\n",
       "    </tr>\n",
       "  </thead>\n",
       "  <tbody>\n",
       "    <tr>\n",
       "      <th>0</th>\n",
       "      <td>17770.0</td>\n",
       "      <td>2154-06-03</td>\n",
       "      <td>2154-06-03 17:30:00</td>\n",
       "      <td>172993.0</td>\n",
       "      <td>be74552c73a0f9895c4f372763054d26</td>\n",
       "      <td>1414073.0</td>\n",
       "      <td>2154-06-03 17:51:00</td>\n",
       "      <td>11590</td>\n",
       "    </tr>\n",
       "    <tr>\n",
       "      <th>1</th>\n",
       "      <td>17698.0</td>\n",
       "      <td>2183-07-28</td>\n",
       "      <td>2183-07-28 05:41:00</td>\n",
       "      <td>116105.0</td>\n",
       "      <td>2bd0c96855c6107be79d0150e1f121e7</td>\n",
       "      <td>1449706.0</td>\n",
       "      <td>2183-07-28 05:53:00</td>\n",
       "      <td>14342</td>\n",
       "    </tr>\n",
       "    <tr>\n",
       "      <th>2</th>\n",
       "      <td>NaN</td>\n",
       "      <td>2170-02-13</td>\n",
       "      <td>NaT</td>\n",
       "      <td>122710.0</td>\n",
       "      <td>bd4bf8040238e3e2cdd7466692defe73</td>\n",
       "      <td>47105.0</td>\n",
       "      <td>NaT</td>\n",
       "      <td>8217</td>\n",
       "    </tr>\n",
       "    <tr>\n",
       "      <th>3</th>\n",
       "      <td>18469.0</td>\n",
       "      <td>2175-06-07</td>\n",
       "      <td>2175-06-07 05:39:00</td>\n",
       "      <td>196691.0</td>\n",
       "      <td>6d20d9b6d3cfdc3fc9e8a72fbab0f697</td>\n",
       "      <td>1573953.0</td>\n",
       "      <td>2175-06-07 06:27:00</td>\n",
       "      <td>23829</td>\n",
       "    </tr>\n",
       "    <tr>\n",
       "      <th>4</th>\n",
       "      <td>17079.0</td>\n",
       "      <td>2125-04-27</td>\n",
       "      <td>2125-04-27 20:51:00</td>\n",
       "      <td>133059.0</td>\n",
       "      <td>d35003faa86241e60396014264b14a4d</td>\n",
       "      <td>1264491.0</td>\n",
       "      <td>2125-04-27 21:03:00</td>\n",
       "      <td>305</td>\n",
       "    </tr>\n",
       "  </tbody>\n",
       "</table>\n",
       "</div>"
      ],
      "text/plain": [
       "      cgid  chartdate           charttime   hadm_id  \\\n",
       "0  17770.0 2154-06-03 2154-06-03 17:30:00  172993.0   \n",
       "1  17698.0 2183-07-28 2183-07-28 05:41:00  116105.0   \n",
       "2      NaN 2170-02-13                 NaT  122710.0   \n",
       "3  18469.0 2175-06-07 2175-06-07 05:39:00  196691.0   \n",
       "4  17079.0 2125-04-27 2125-04-27 20:51:00  133059.0   \n",
       "\n",
       "                                md5  note_row_id           storetime  \\\n",
       "0  be74552c73a0f9895c4f372763054d26    1414073.0 2154-06-03 17:51:00   \n",
       "1  2bd0c96855c6107be79d0150e1f121e7    1449706.0 2183-07-28 05:53:00   \n",
       "2  bd4bf8040238e3e2cdd7466692defe73      47105.0                 NaT   \n",
       "3  6d20d9b6d3cfdc3fc9e8a72fbab0f697    1573953.0 2175-06-07 06:27:00   \n",
       "4  d35003faa86241e60396014264b14a4d    1264491.0 2125-04-27 21:03:00   \n",
       "\n",
       "   subject_id  \n",
       "0       11590  \n",
       "1       14342  \n",
       "2        8217  \n",
       "3       23829  \n",
       "4         305  "
      ]
     },
     "execution_count": 54,
     "metadata": {},
     "output_type": "execute_result"
    }
   ],
   "source": [
    "note_meta_df = pd.DataFrame.from_records(note_meta)\n",
    "note_meta_df.head(5)"
   ]
  },
  {
   "cell_type": "code",
   "execution_count": 58,
   "metadata": {
    "collapsed": false
   },
   "outputs": [
    {
     "name": "stderr",
     "output_type": "stream",
     "text": [
      "2016-10-24 16:41:54,930 - root - INFO - ../../data/mimic3_note_metadata_2016-10-24-16-35.csv\n"
     ]
    }
   ],
   "source": [
    "output_path = pl.Path(path_config['repo_data_dir']).joinpath('mimic3_note_metadata_{}.csv'.format(time_str))\n",
    "logger.info(output_path)\n",
    "note_meta_df.to_csv(output_path.as_posix(), index=False)"
   ]
  },
  {
   "cell_type": "code",
   "execution_count": null,
   "metadata": {
    "collapsed": true
   },
   "outputs": [],
   "source": []
  }
 ],
 "metadata": {
  "kernelspec": {
   "display_name": "Python [default]",
   "language": "python",
   "name": "python3"
  },
  "language_info": {
   "codemirror_mode": {
    "name": "ipython",
    "version": 3
   },
   "file_extension": ".py",
   "mimetype": "text/x-python",
   "name": "python",
   "nbconvert_exporter": "python",
   "pygments_lexer": "ipython3",
   "version": "3.5.2"
  }
 },
 "nbformat": 4,
 "nbformat_minor": 1
}
